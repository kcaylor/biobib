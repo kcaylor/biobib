{
 "cells": [
  {
   "attachments": {},
   "cell_type": "markdown",
   "metadata": {},
   "source": [
    "# Lectures\n",
    "\n",
    "A set of tables for handling lectures\n"
   ]
  },
  {
   "cell_type": "code",
   "execution_count": 289,
   "metadata": {},
   "outputs": [],
   "source": [
    "#| default_exp Lectures"
   ]
  },
  {
   "cell_type": "code",
   "execution_count": 290,
   "metadata": {},
   "outputs": [],
   "source": [
    "#| export\n",
    "#| hide\n",
    "from biobib.table import Table, sh\n",
    "from biobib.sheet import Sheet\n",
    "from nbdev import show_doc\n",
    "import pandas as pd"
   ]
  },
  {
   "cell_type": "code",
   "execution_count": 291,
   "metadata": {},
   "outputs": [],
   "source": [
    "#| hide\n",
    "from fastcore.test import *\n",
    "from fastcore.test import *\n",
    "from fastcore.basics import *\n",
    "from fastcore.foundation import *"
   ]
  },
  {
   "attachments": {},
   "cell_type": "markdown",
   "metadata": {},
   "source": [
    "### Define a template for lecture activities\n",
    "\n",
    "Here is a template we can use for lecture activities. It generates a longtable which can span multiple pages, and provides the year, role, topic, venue, and place of each lecture."
   ]
  },
  {
   "cell_type": "code",
   "execution_count": 292,
   "metadata": {},
   "outputs": [],
   "source": [
    "lectures_biobib_template = r'''% UC Bio-bib Lectures Table\n",
    "% Created on \\VAR{created}\n",
    "\n",
    "\\begin{longtable}{lp{7.0cm}p{6.5cm}}\n",
    "Month/Year & Title & Meeting/Venue (Place)\\\\\n",
    "\\hline \n",
    "\\endfirsthead\n",
    "\n",
    "\n",
    "\\multicolumn{3}{c}%\n",
    "{{\\VAR{table_name} - continued from previous page }} \\\\ \\\\\n",
    "Month/Year & Title & Meeting/Venue (Place)\\\\\n",
    "\\hline \n",
    "\\endhead\n",
    "\n",
    "\\\\\n",
    "\\multicolumn{3}{c}%\n",
    "{{ \\VAR{table_name} continued on next page }} \\\\\n",
    "\\endfoot\n",
    "\n",
    "\\hline \\hline\n",
    "\\endlastfoot\n",
    "\\BLOCK{for lecture in items}\n",
    "\\VAR{lecture.Month}/\\VAR{lecture.Year} & \\VAR{lecture.Role|tex_escape}, \\VAR{lecture.Topic|tex_escape} & \\VAR{lecture.Venue|tex_escape}. (\\VAR{lecture.Place|tex_escape}) \\\\\n",
    "\\BLOCK{endfor}\n",
    "\\end{longtable}\n",
    "'''"
   ]
  },
  {
   "cell_type": "code",
   "execution_count": 293,
   "metadata": {},
   "outputs": [],
   "source": [
    "class Lectures(Table):\n",
    "    \"\"\" \n",
    "    A Service class of Table for use in generating biobibs and CVs \n",
    "    \"\"\"\n",
    "    def __init__(\n",
    "            self,\n",
    "            sheet:Sheet=None, # Google sheet object\n",
    "            worksheet:str='Lectures',   # worksheet name in google sheet\n",
    "            csv_file:str=None, # optional csv file (if using csv files) \n",
    "            table_name:str=None, # Will be determined from category.\n",
    "            cumulative:bool=False, # Is this table cumulative? \n",
    "            template=lectures_biobib_template # template content\n",
    "    ):\n",
    "        super().__init__(\n",
    "            sheet=sheet,\n",
    "            worksheet=worksheet, \n",
    "            table_name=table_name,\n",
    "            csv_file=csv_file, \n",
    "            template=template)\n",
    "        self.cumulative = cumulative\n",
    "        self.df = self.clean_df()"
   ]
  },
  {
   "attachments": {},
   "cell_type": "markdown",
   "metadata": {},
   "source": [
    "### Provide a data cleaning function for the service table\n",
    "\n"
   ]
  },
  {
   "cell_type": "code",
   "execution_count": 294,
   "metadata": {},
   "outputs": [],
   "source": [
    "#| export\n",
    "\n",
    "@patch\n",
    "def clean_df(self:Lectures,\n",
    "             sort_by:list=['Year', 'Month'], # variable to sort by\n",
    "             ascending:bool=[True, True] # ascending?\n",
    "            )->pd.DataFrame:  # cleaned dataframe\n",
    "    \"\"\"\n",
    "    Clean the Lectures table.\n",
    "    \n",
    "    \"\"\"\n",
    "    df = Table.table_clean_df(self)\n",
    "    df = df.sort_values(by=sort_by, ascending=ascending)\n",
    "    return df"
   ]
  },
  {
   "cell_type": "code",
   "execution_count": 295,
   "metadata": {},
   "outputs": [
    {
     "data": {
      "text/plain": [
       "<bound method Sheet.get_dataframe of <biobib.sheet.Sheet object at 0x178d88dc0>>"
      ]
     },
     "execution_count": 295,
     "metadata": {},
     "output_type": "execute_result"
    }
   ],
   "source": [
    "sh.get_dataframe"
   ]
  },
  {
   "cell_type": "code",
   "execution_count": 296,
   "metadata": {},
   "outputs": [],
   "source": [
    "lecture_table = Lectures(sheet=sh,worksheet='Lectures',table_name='Lectures',template=lectures_biobib_template)"
   ]
  },
  {
   "cell_type": "code",
   "execution_count": 297,
   "metadata": {},
   "outputs": [],
   "source": [
    "test_eq(lecture_table.table_name,'Lectures')\n",
    "test_eq(list(lecture_table.df.columns),\n",
    "        ['Year', 'Month', 'Role', 'Topic', \n",
    "         'Venue', 'Place', 'Eval'])"
   ]
  },
  {
   "cell_type": "code",
   "execution_count": 298,
   "metadata": {},
   "outputs": [
    {
     "name": "stdout",
     "output_type": "stream",
     "text": [
      "% UC Bio-bib Lectures Table\n",
      "% Created on 2023-06-29 19:09\n",
      "\n",
      "\\begin{longtable}{lp{7.0cm}p{6.5cm}}\n",
      "Month/Year & Title & Meeting/Venue (Place)\\\\\n",
      "\\hline \n",
      "\\endfirsthead\n",
      "\n",
      "\n",
      "\\multicolumn{3}{c}%\n",
      "{{Lectures - continued from previous page }} \\\\ \\\\\n",
      "Month/Year & Title & Meeting/Venue (Place)\\\\\n",
      "\\hline \n",
      "\\endhead\n",
      "\n",
      "\\\\\n",
      "\\multicolumn{3}{c}%\n",
      "{{ Lectures continued on next page }} \\\\\n",
      "\\endfoot\n",
      "\n",
      "\\hline \\hline\n",
      "\\endlastfoot\n",
      "8/2018 & Invited Speaker, Session on ``Vegetation dynamics and ecosystem resilience under global climate change'' &  Ecological Society of America Annual Meeting. (New Orleans, LA) \\\\\n",
      "8/2018 & Instructor, Coupled Natural-Human Systems Short Course & Ridge to Reef NRT Graduate Training Program. (University of California, Irvine) \\\\\n",
      "12/2019 & Invited Speaker, Linkages between water, vegetation, and livelihoods in Sub-Saharan drylands & American Geophysical Union. (San Francisco, CA) \\\\\n",
      "5/2019 & Keynote Speaker, The Jack and Laura Dangermond Preserve: A Perfect Place for Advancing Conservation Science & Board of Trustees Meeting. (University of California, Santa Barbara) \\\\\n",
      "8/2019 & Invited Speaker, The effects of climate variability on the structure and function of tropical vegetation & 44th New Phytologist Symposium. (Accra, Ghana) \\\\\n",
      "9/2019 & Invited Speaker, Coupled natural-human dynamics in smallholder rain-fed agricultural systems & Department of Civil and Environmental Engineering. (University of Florida) \\\\\n",
      "5/2021 & Keynote Speaker, A mile wide and a pixel deep: Integrating machine learning, computer vision, and satellite imagery for coupled-natural human system modeling & Helmholtz Institute conference on AI and ML in Earth \\& Environmental Science. (Virtual) \\\\\n",
      "5/2022 & Invited Lecturer, Staff Training Program: Human-caused climate change and the ecology of Santa Barbara & Santa Barbara Museum of Natural History. (Santa Barbara, CA) \\\\\n",
      "2/2023 & Keynote Speaker, Identifying and Mitigating Risk During Environmental Science Field Campaigns & Campus Safety, Health, and Environmental Management Association Annual Symposium. (Santa Barbara, CA) \\\\\n",
      "4/2023 & Invited Speaker, The interacting impacts of shifting rainfall climatology and crop choice in smallholder production systems & Biocomplexity Institute. (University of Florida) \\\\\n",
      "\\end{longtable}\n"
     ]
    }
   ],
   "source": [
    "print(lecture_table.render_template())"
   ]
  },
  {
   "cell_type": "code",
   "execution_count": 299,
   "metadata": {},
   "outputs": [],
   "source": [
    "lectures_cv_template = r'''% CV Lectures Table\n",
    "% Created on \\VAR{created}\n",
    "\n",
    "\\begin{longtable}{l p{3.0cm} p{11.5cm}}\n",
    "\\endfirsthead\n",
    "\n",
    "\n",
    "\\multicolumn{3}{c}%\n",
    "{{\\VAR{table_name} - continued from previous page }} \\\\ \\\\\n",
    "\n",
    "\\endhead\n",
    "\n",
    "\\\\\n",
    "\\multicolumn{3}{c}%\n",
    "{{ \\VAR{table_name} continued on next page }} \\\\\n",
    "\\endfoot\n",
    "\n",
    "\\endlastfoot\n",
    "\\BLOCK{for lecture in items|reversed}\n",
    "\\VAR{lecture.Year} & \\VAR{lecture.Role|tex_escape} & \\VAR{lecture.Topic|tex_escape}\\BLOCK{if lecture.Venue}, \\VAR{lecture.Venue|tex_escape}\\BLOCK{endif}\\BLOCK{if lecture.Place}, \\VAR{lecture.Place|tex_escape}\\BLOCK{endif} \\\\\n",
    "\\BLOCK{endfor}\n",
    "\\end{longtable}\n",
    "'''"
   ]
  },
  {
   "cell_type": "code",
   "execution_count": 300,
   "metadata": {},
   "outputs": [],
   "source": [
    "cv_table = Lectures(sheet=sh,worksheet='Lectures',table_name='Lectures',cumulative=True,template=lectures_cv_template)"
   ]
  },
  {
   "cell_type": "code",
   "execution_count": 301,
   "metadata": {},
   "outputs": [
    {
     "name": "stdout",
     "output_type": "stream",
     "text": [
      "% CV Lectures Table\n",
      "% Created on 2023-06-29 19:09\n",
      "\n",
      "\\begin{longtable}{l p{3.0cm} p{11.5cm}}\n",
      "\\endfirsthead\n",
      "\n",
      "\n",
      "\\multicolumn{3}{c}%\n",
      "{{Lectures - continued from previous page }} \\\\ \\\\\n",
      "\n",
      "\\endhead\n",
      "\n",
      "\\\\\n",
      "\\multicolumn{3}{c}%\n",
      "{{ Lectures continued on next page }} \\\\\n",
      "\\endfoot\n",
      "\n",
      "\\endlastfoot\n",
      "2023 & Invited Speaker & The interacting impacts of shifting rainfall climatology and crop choice in smallholder production systems, Biocomplexity Institute, University of Florida \\\\\n",
      "2023 & Keynote Speaker & Identifying and Mitigating Risk During Environmental Science Field Campaigns, Campus Safety, Health, and Environmental Management Association Annual Symposium, Santa Barbara, CA \\\\\n",
      "2022 & Invited Lecturer & Staff Training Program: Human-caused climate change and the ecology of Santa Barbara, Santa Barbara Museum of Natural History, Santa Barbara, CA \\\\\n",
      "2021 & Keynote Speaker & A mile wide and a pixel deep: Integrating machine learning, computer vision, and satellite imagery for coupled-natural human system modeling, Helmholtz Institute conference on AI and ML in Earth \\& Environmental Science, Virtual \\\\\n",
      "2019 & Invited Speaker & Coupled natural-human dynamics in smallholder rain-fed agricultural systems, Department of Civil and Environmental Engineering, University of Florida \\\\\n",
      "2019 & Invited Speaker & The effects of climate variability on the structure and function of tropical vegetation, 44th New Phytologist Symposium, Accra, Ghana \\\\\n",
      "2019 & Keynote Speaker & The Jack and Laura Dangermond Preserve: A Perfect Place for Advancing Conservation Science, Board of Trustees Meeting, University of California, Santa Barbara \\\\\n",
      "2019 & Invited Speaker & Linkages between water, vegetation, and livelihoods in Sub-Saharan drylands, American Geophysical Union, San Francisco, CA \\\\\n",
      "2018 & Instructor & Coupled Natural-Human Systems Short Course, Ridge to Reef NRT Graduate Training Program, University of California, Irvine \\\\\n",
      "2018 & Invited Speaker & Session on ``Vegetation dynamics and ecosystem resilience under global climate change'',  Ecological Society of America Annual Meeting, New Orleans, LA \\\\\n",
      "2018 & Invited Speaker & Workshop on Spatial Pattern Formation in Ecosystems, Princeton University, Center for Theoretical Science \\\\\n",
      "2017 & Invited Speaker & Session on ``Hydrologic connectivity: linking land use changes and management to movement and transformations of resources within catchments'', ALSO Aquatic Sciences Meeting, Honolulu, HI \\\\\n",
      "2017 & Seminar Speaker & Department of Plant Sciences Seminar, University of California, Riverside \\\\\n",
      "2016 & Invited Speaker & Water for Food Global Conference, ``Catalytic Collaborations: Building Public- Private Partnerships for Water and Food Security,'' , Water for Food Institute, University of Nebraska \\\\\n",
      "2015 & Invited Lecturer & Summer Course on ``Using UAVs for Environmental Monitoring'', University of Basilicata, Matera, Italy \\\\\n",
      "2015 & Invited Participant & Conference on Water \\& Food Security Under Changing Environments, China Agricultural University \\\\\n",
      "2015 & Lead Instructor & Isotope Hydrology Training Course, Center for Agricultural and Water Research in China, China Agricultural University \\\\\n",
      "2015 & Invited Seminar & Chinese Academy of Agricultural Sciences, Beijing, China \\\\\n",
      "2015 & Invited Seminar & Earth Research Institute, University of California, Santa Barbara, CA \\\\\n",
      "2015 & Invited Seminar & Department of Civil and Environmental Engineering, University of Michigan, Ann Arbor, MI \\\\\n",
      "2015 & Invited Speaker & Session on ``Estimation of Spatial and Temporal Variability of Land Surface Hydro- logical and Thermal Processes'', AGU Fall Meeting, San Francisco, CA \\\\\n",
      "2015 & Invited Speaker & Session on ``African Environments Across Space and Through Time: Integration Modern and Ancient Data for Insights into Terrestrial Ecosystem Dynamics'', GSA Annual Meeting, Baltimore, MD \\\\\n",
      "2015 & Invited Seminar & Program in Ecology, Evolutionary Biology, and Behavior, Michigan State University \\\\\n",
      "2015 & Invited Seminar & National Socio-Environmental Synthesis Center (SESYNC), Annapolis, MD \\\\\n",
      "2015 & Invited Speaker & Class of 1968 ``Princeton and the Environment Symposium'', Princeton, NJ \\\\\n",
      "2015 & Invited Speaker & Symposium on ``Advances in Earth Observation: Enabling New Insights into Global Environmental Change'', AAAS Annual Meeting, San Jose, CA \\\\\n",
      "2014 & Invited Lecturer & Summer Course on ``Modeling Spatial/Temporal Heterogeneity in Ecohydrological Systems'',, U. of Basilicata, Matera, Italy \\\\\n",
      "2014 & Keynote Speaker & WISENet IGERT Annual Meeting, Duke University, Durham, NC \\\\\n",
      "2014 & Invited Speaker & Workshop on ``Improving Water Use Efficiency in Agriculture'', China Agricultural University, Beijing, China \\\\\n",
      "2014 & Invited Speaker & Arid Zone Hydrology Symposium, Texas A\\&M University \\\\\n",
      "2014 & Invited Speaker & Session on ``Coupled Natural Human System Research Across Scales: From Emu- lators of Global Climate Model Output to Local-Scale Processes and Feedbacks'', AGU Fall Meeting, San Francisco, CA  \\\\\n",
      "2013 & Invited Participant & 2nd International Workshop on ``Methods and Technologies for Environmental Mon- itoring and Modelling of Hydrologic and Hydraulic Risk'', Matera, Italy \\\\\n",
      "2013 & Invited Speaker & Symposium on Hydropedology, Soil Science Society of America Meeting, Tampa, FL \\\\\n",
      "2012 & Invited Seminar & Department of Environmental Science, Policy, and Management, University of Calfiornia - Berkeley \\\\\n",
      "2012 & Invited Speaker & Session on ``Catchment Similarity and Organisation'', EGU Annual Meeting, Vi- enna, Austria \\\\\n",
      "2012 & Invited Lecture & Stuart Country Day School, Princeton, NJ \\\\\n",
      "2012 & Invited Seminar & Science, Technology, Environment, and Policy Program, Woodrow Wilson School, Princeton University \\\\\n",
      "2012 & Invited Speaker & Session on ``Dryland Ecohydrology: Critical Issues and Technical Advances'', AGU Fall Meeting, San Francisco, CA \\\\\n",
      "2011 & Invited Speaker & EcoHCC'11 International Conference on Ecohydrology and Climate Change, Tonar, Portugal \\\\\n",
      "2011 & Invited Lecturer & 1st Summer School on Monitoring and Modeling Surface Hydrology, Marsico Nuovo, Italy \\\\\n",
      "2011 & Invited Speaker & Earthwatch Annual Board Meeting, Princeton, NJ \\\\\n",
      "2011 & Invited Seminar & Department of Civil and Environmental Engineering, University of Illinois, Urbana-Champaign \\\\\n",
      "2011 & Invited Panelist & New Jersey Symphony Orchestra Winter Concert, ``Water: Global Challenge and Local Solutions in Developing Countries'', Princeton, NJ \\\\\n",
      "2010 & Invited Speaker & Department of Geological, Environmental, and Marine Sciences, Rider University \\\\\n",
      "2009 & Invited Speaker & IV CNR-Princeton Workshop ``New frontiers in Hydrology'', Rome, Italy \\\\\n",
      "2009 & Invited Seminar & Department of Plant Sciences, Kenyatta University of Agriculture \\& Technology \\\\\n",
      "2009 & Invited Speaker & Session on ``Landscapes in Semi-Arid and Arid Environments: A Hydrological and Ecological Perspective'', AGU Fall Meeting, San Francisco, CA \\\\\n",
      "2009 & Invited Speaker & Environmental Fluid Mechanics/Hydrology Seminar Series, MIT  \\\\\n",
      "2008 & Invited Participant & International Ecohydrology/Ecophysiology Workshop, University of Western Australia, Perth, Australia \\\\\n",
      "2008 & Invited Presenter & Organized Oral Session, ``Towards a synthetic theory of tree-grass coexistence in savannas'', 93rd Annual Ecological Society of America Meeting, Milwaukee, WI \\\\\n",
      "2008 & Invited Presenter & Session on ``Ecosystem resilience to changing climate patterns: the role of hydrology'', AGU Fall Meeting, San Francisco, CA \\\\\n",
      "2008 & Invited Presenter & Symposium, ``Seeing into the soil: Noninvasive characterization of biophysical processes in the soil critical zone'', ASA-CSSA-SSSA 2008 Joint Annual Meeting, Houston, TX \\\\\n",
      "2007 & Invited Seminar & Department of Civil and Environmental Engineering, Princeton University \\\\\n",
      "2007 & Invited Speaker & Monroe County Drainage Board, Bloomington, IN \\\\\n",
      "2006 & Invited Speaker & Session on ``Climate-soil-vegetation dynamics and their impacts on water balance and hydrological extremes'',, European Geophysical Union Meeting, Vienna, Austria \\\\\n",
      "2006 & Invited Seminar & School of Public and Environmental Affairs, Indiana University \\\\\n",
      "2006 & Invited Speaker & Session on ``Bridging Hydrology, Soil Science and Ecology'', AGU Fall Meeting, San Francisco, CA \\\\\n",
      "2005 & Invited Speaker & Session on ``Integrated Approaches in Hydrological Process Studies'', AGU Spring Meeting, New Orleans, LA \\\\\n",
      "2005 & Invited Seminar & Department of Environmental Sciences, Rutgers University \\\\\n",
      "2005 & Invited Seminar & Colloquia Series, Department of Geography, Indiana University \\\\\n",
      "2004 & Invited Seminar & Forest Watershed Seminar Series, Department of Environmental Science, Policy, and Management, University of California - Berkeley \\\\\n",
      "2004 & Invited Seminar & Woods Hole Research Center, Woods Hole, MA \\\\\n",
      "2003 & Invited Participant & Savanna Complexity: Different perceptions, Common Ground, Luiperdskloof Game Lodge, South Africa \\\\\n",
      "2002 & Invited Presenter & Session on Ecohydrology, AGU Spring Meeting, Washington D.C. \\\\\n",
      "\\end{longtable}\n"
     ]
    }
   ],
   "source": [
    "print(cv_table.render_template())"
   ]
  },
  {
   "cell_type": "code",
   "execution_count": 302,
   "metadata": {},
   "outputs": [],
   "source": [
    "cv_table.write_template(path='../tex/CV/')"
   ]
  },
  {
   "cell_type": "code",
   "execution_count": 303,
   "metadata": {},
   "outputs": [],
   "source": [
    "#| hide\n",
    "import nbdev; nbdev.nbdev_export()"
   ]
  }
 ],
 "metadata": {
  "kernelspec": {
   "display_name": "biobib",
   "language": "python",
   "name": "python3"
  },
  "language_info": {
   "codemirror_mode": {
    "name": "ipython",
    "version": 3
   },
   "file_extension": ".py",
   "mimetype": "text/x-python",
   "name": "python",
   "nbconvert_exporter": "python",
   "pygments_lexer": "ipython3",
   "version": "3.10.9"
  }
 },
 "nbformat": 4,
 "nbformat_minor": 4
}
