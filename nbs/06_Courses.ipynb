{
 "cells": [
  {
   "attachments": {},
   "cell_type": "markdown",
   "metadata": {},
   "source": [
    "# Courses\n",
    "\n",
    "A set of tables for handling teaching activities\n"
   ]
  },
  {
   "cell_type": "code",
   "execution_count": 15,
   "metadata": {},
   "outputs": [],
   "source": [
    "#| default_exp Courses"
   ]
  },
  {
   "cell_type": "code",
   "execution_count": 16,
   "metadata": {},
   "outputs": [],
   "source": [
    "#| export\n",
    "#| hide\n",
    "from biobib.table import Table, sh\n",
    "from biobib.sheet import Sheet\n",
    "from nbdev import show_doc\n",
    "import pandas as pd\n",
    "import copy"
   ]
  },
  {
   "cell_type": "code",
   "execution_count": 17,
   "metadata": {},
   "outputs": [],
   "source": [
    "#| hide\n",
    "from fastcore.test import *\n",
    "from fastcore.test import *\n",
    "from fastcore.basics import *\n",
    "from fastcore.foundation import *"
   ]
  },
  {
   "attachments": {},
   "cell_type": "markdown",
   "metadata": {},
   "source": [
    "### Define a template for service activities\n",
    "\n",
    "Here is a template we can use for service activities. It generates a longtable which can span multiple pages, and provides the year, role, and type of each service activity.\n"
   ]
  },
  {
   "cell_type": "code",
   "execution_count": 18,
   "metadata": {},
   "outputs": [],
   "source": [
    "courses_biobib_template = r'''% UC Bio-bib Catalog Courses Table\n",
    "% Created on \\VAR{created}\n",
    "\n",
    "\\begin{longtable}{p{1cm}p{7cm}p{0.75cm}rrrrp{2.5cm}}\n",
    "Qtr & Course & Class Type & IWC & Units & Hrs/Wk & Enrollment & ESCI/Written Evals Avail.\\\\\n",
    "\\hline \n",
    "\\endfirsthead\n",
    "\n",
    "\\multicolumn{7}{c}%\n",
    "{{\\VAR{table_name} - continued from previous page }} \\\\ \\\\\n",
    "Qtr & Course & Class Type & IWC & Units & Hrs/Wk & Enrollment & ESCI/Written Evals Avail.\\\\\n",
    "\\hline \n",
    "\\endhead\n",
    "\n",
    "\\\\\n",
    "\\multicolumn{7}{c}%\n",
    "{{ \\VAR{table_name} continued on next page }} \\\\\n",
    "\\endfoot\n",
    "\n",
    "\\hline \\hline\n",
    "\\endlastfoot\n",
    "\n",
    "\n",
    "\\BLOCK{ for course in items }\n",
    "\\VAR{course.QYR} & \\VAR{course.Course}, \\VAR{course.Title} & \\VAR{course['Class Type']} & \\VAR{course.IWC|tex_escape} & \\VAR{course.Units|tex_escape} & \\VAR{course['Hours per Week']|tex_escape} & \\VAR{ course.Enrollment|tex_escape} & \\VAR{course.ESCI|tex_escape}/\\VAR{course.Evals|tex_escape} \\BLOCK{if course.Evals} \\VAR{course['ESCI Link']|href} \\BLOCK{endif} \\\\ \n",
    "\\BLOCK{ endfor } \n",
    "\\end{longtable}\n",
    "'''\n"
   ]
  },
  {
   "cell_type": "code",
   "execution_count": 53,
   "metadata": {},
   "outputs": [],
   "source": [
    "courses_cv_template = r'''% CV Catalog Courses Table\n",
    "% Created on \\VAR{created}\n",
    "\n",
    "\\begin{longtable}{p{1cm}p{7cm}}\n",
    "Year & Course \\\\\n",
    "\\hline \n",
    "\\endfirsthead\n",
    "\n",
    "\\multicolumn{2}{l}%\n",
    "{{\\VAR{table_name} - continued from previous page }} \\\\ \\\\\n",
    "Year & Course \\\\\n",
    "\\hline \n",
    "\\endhead\n",
    "\n",
    "\\\\\n",
    "\\multicolumn{2}{l}%\n",
    "{{ \\VAR{table_name} continued on next page }} \\\\\n",
    "\\endfoot\n",
    "\n",
    "\\hline \\hline\n",
    "\\endlastfoot\n",
    "\n",
    "\\BLOCK{ for course in items }\n",
    "\\BLOCK{ if course['Class Type'] == 'Lec' }\n",
    "\\VAR{course.Year} & \\VAR{course.Course}, \\VAR{course.Title} \\\\ \n",
    "\\BLOCK{ endif }\n",
    "\\BLOCK{ endfor } \n",
    "\\end{longtable}\n",
    "'''\n",
    "\n"
   ]
  },
  {
   "cell_type": "code",
   "execution_count": 19,
   "metadata": {},
   "outputs": [],
   "source": [
    "class Courses(Table):\n",
    "    \"\"\" \n",
    "    A Courses class of Table for use in generating biobibs and CVs \n",
    "    \"\"\"\n",
    "    def __init__(\n",
    "            self,\n",
    "            sheet:Sheet=None, # Google sheet object\n",
    "            worksheet:str='Courses',   # worksheet name in google sheet\n",
    "            csv_file:str=None, # optional csv file (if using csv files) \n",
    "            table_name:str=None, # Will be determined from category.\n",
    "            cumulative:bool=False, # Is this table cumulative? \n",
    "            template=courses_biobib_template # template content\n",
    "    ):\n",
    "        filters = {\n",
    "            'href': self.href\n",
    "        }\n",
    "        \n",
    "        super().__init__(\n",
    "            sheet=sheet,\n",
    "            worksheet=worksheet, \n",
    "            table_name=table_name,\n",
    "            csv_file=csv_file, \n",
    "            template=template,\n",
    "            filters=filters)\n",
    "        self.cumulative = cumulative\n",
    "        self.df = self.clean_df()"
   ]
  },
  {
   "attachments": {},
   "cell_type": "markdown",
   "metadata": {},
   "source": [
    "### Provide a data cleaning function for the courses table\n",
    "\n"
   ]
  },
  {
   "cell_type": "code",
   "execution_count": 27,
   "metadata": {},
   "outputs": [],
   "source": [
    "#| export\n",
    "\n",
    "@patch\n",
    "def clean_df(self:Courses,\n",
    "             sort_by:list=['Year', 'Q', 'Course'], # variable to sort by\n",
    "             ascending:list=[True, True, True], # ascending?\n",
    "            )->pd.DataFrame:  # cleaned dataframe\n",
    "    \"\"\"\n",
    "    Clean the Service table.\n",
    "    \n",
    "    \"\"\"\n",
    "    df = copy.deepcopy(self.df)\n",
    "    if not self.cumulative:\n",
    "        df = self.clean_cumulative(df)\n",
    "    df = Table.table_clean_df(self)\n",
    "    df = df.sort_values(by=sort_by, ascending=ascending)\n",
    "    return df"
   ]
  },
  {
   "cell_type": "code",
   "execution_count": 28,
   "metadata": {},
   "outputs": [
    {
     "data": {
      "text/plain": [
       "<bound method Sheet.get_dataframe of <biobib.sheet.Sheet object at 0x176b5d1b0>>"
      ]
     },
     "execution_count": 28,
     "metadata": {},
     "output_type": "execute_result"
    }
   ],
   "source": [
    "sh.get_dataframe"
   ]
  },
  {
   "cell_type": "code",
   "execution_count": 35,
   "metadata": {},
   "outputs": [],
   "source": [
    "courses_table = Courses(sheet=sh,worksheet='Courses',table_name='Courses',template=courses_biobib_template)"
   ]
  },
  {
   "cell_type": "code",
   "execution_count": 36,
   "metadata": {},
   "outputs": [],
   "source": [
    "test_eq(courses_table.table_name,'Courses')\n",
    "test_eq(list(courses_table.df.columns),\n",
    "        ['Year', 'Q', 'Quarter', 'QYR', 'Course', 'Title', \n",
    "         'Class Type', 'IWC', 'Units', 'Hours per Week', \n",
    "         'Enrollment', 'ESCI', 'ESCI Link', \n",
    "         'Evals', 'Eval', 'Q1', 'Q2']\n",
    "        )"
   ]
  },
  {
   "cell_type": "code",
   "execution_count": 37,
   "metadata": {},
   "outputs": [
    {
     "name": "stdout",
     "output_type": "stream",
     "text": [
      "% UC Bio-bib Catalog Courses Table\n",
      "% Created on 2023-06-29 16:41\n",
      "\n",
      "\\begin{longtable}{p{1cm}p{7cm}p{0.75cm}rrrrp{2.5cm}}\n",
      "Qtr & Course & Class Type & IWC & Units & Hrs/Wk & Enrollment & ESCI/Written Evals Avail.\\\\\n",
      "\\hline \n",
      "\\endfirsthead\n",
      "\n",
      "\\multicolumn{7}{c}%\n",
      "{{Courses - continued from previous page }} \\\\ \\\\\n",
      "Qtr & Course & Class Type & IWC & Units & Hrs/Wk & Enrollment & ESCI/Written Evals Avail.\\\\\n",
      "\\hline \n",
      "\\endhead\n",
      "\n",
      "\\\\\n",
      "\\multicolumn{7}{c}%\n",
      "{{ Courses continued on next page }} \\\\\n",
      "\\endfoot\n",
      "\n",
      "\\hline \\hline\n",
      "\\endlastfoot\n",
      "\n",
      "\n",
      "F18 & Credit, Geography IWC Credit for ERI Directorship & - & 0.75 &  &  &  & /  \\\\ \n",
      "F18 & Credit, Bren IWC Credit for ERI Directorship & - & 0.88 &  &  &  & /  \\\\ \n",
      "F18 & ESM 203, Earth System Science & Lec & 1 & 4 & 1 & 90 & Yes/Yes  \\href{https://ucsb.box.com/s/vvhpxerul6hbzum3fvmwigzd3y8yset6}{[link]}  \\\\ \n",
      "F18 & ESM 401B, Group Project - B & Dis & 0.29 & 4 & 1 & 5 & No/No  \\href{}{[link]}  \\\\ \n",
      "F18 & GEOG 199RA, Independent Research Assistant & Tut & 0 &  & 1 & 1 & No/No  \\href{}{[link]}  \\\\ \n",
      "F18 & GEOG 596, Directed Reading and Research & Tut & 0 &  & 2 & 2 & No/No  \\href{}{[link]}  \\\\ \n",
      "F18 & GEOG 598, Master’s Thesis & Tut & 0 &  & 1 & 1 & No/No  \\href{}{[link]}  \\\\ \n",
      "F18 & GEOG 599, PhD Dissertation & Tut & 0 &  & 2 & 2 & No/No  \\href{}{[link]}  \\\\ \n",
      "W19 & ESM 401C , Group Project - C & Dis & 0.29 & 4 & 1 & 5 & No/No  \\href{}{[link]}  \\\\ \n",
      "W19 & GEOG 596, Directed Reading and Research & Tut & 0 &  & 1 & 1 & No/No  \\href{}{[link]}  \\\\ \n",
      "W19 & GEOG 599, PhD Dissertation & Tut & 0 &  & 2 & 2 & No/No  \\href{}{[link]}  \\\\ \n",
      "S19 & ESM 401A, Group Project - A & Lec & 0.29 & 4 & 1 & 5 & No/No  \\href{}{[link]}  \\\\ \n",
      "S19 & ESM 401D, Group Project - D & Dis & 0.13 & 2 & 1 & 4 & No/No  \\href{}{[link]}  \\\\ \n",
      "S19 & G136, Water, Energy, and Ecosystems & Lec & 1 & 4 & 1 & 10 & Yes/Yes  \\href{https://ucsb.box.com/s/9oj1uqebr0a3gcg9brhfxw6ys8atw9oi}{[link]}  \\\\ \n",
      "S19 & GEOG 596, Directed Reading and Research & Tut & 0 &  & 1 & 1 & No/No  \\href{}{[link]}  \\\\ \n",
      "S19 & GEOG 599, PhD Dissertation & Tut & 0 &  & 2 & 2 & No/No  \\href{}{[link]}  \\\\ \n",
      "F19 & Credit, Geography IWC Credit for ERI Directorship & - & 0.75 &  &  &  & /  \\\\ \n",
      "F19 & Credit, Bren IWC Credit for ERI Directorship & - & 0.88 &  &  &  & /  \\\\ \n",
      "F19 & ESM 203, Earth System Science & Lec & 0.5 & 4 & 1 & 87 & Yes/Yes  \\href{https://ucsb.box.com/s/btln348spk7zsculb0swyrqe6nt0so33}{[link]}  \\\\ \n",
      "F19 & ESM 401B, Group Project - B & Dis & 0.29 & 4 & 1 & 4 & No/No  \\href{}{[link]}  \\\\ \n",
      "F19 & GEOG 596, Directed Reading and Research & Tut & 0 &  & 4 & 4 & No/No  \\href{}{[link]}  \\\\ \n",
      "F19 & GEOG 597, Individual Study - PhD Exam & Tut & 0 &  & 1 & 1 & No/No  \\href{}{[link]}  \\\\ \n",
      "F19 & GEOG 598, Master’s Thesis & Tut & 0 &  & 1 & 1 & No/No  \\href{}{[link]}  \\\\ \n",
      "F19 & GEOG 599, PhD Dissertation & Tut & 0 &  & 2 & 2 & No/No  \\href{}{[link]}  \\\\ \n",
      "W20 & ESM 401C , Group Project - C & Dis & 0.29 & 4 & 1 & 4 & No/No  \\href{}{[link]}  \\\\ \n",
      "W20 & GEOG 199, Independent Studies & Tut & 0 &  & 1 & 1 & No/No  \\href{}{[link]}  \\\\ \n",
      "W20 & GEOG 596, Directed Reading and Research & Tut & 0 &  & 3 & 3 & No/No  \\href{}{[link]}  \\\\ \n",
      "W20 & GEOG 599, PhD Dissertation & Tut & 0 &  & 2 & 2 & No/No  \\href{}{[link]}  \\\\ \n",
      "S20 & ESM 401A, Group Project - A & Lec & 0.29 & 4 & 1 & 4 & No/No  \\href{}{[link]}  \\\\ \n",
      "S20 & ESM 401D, Group Project - D & Dis & 0.13 & 2 & 1 & 4 & No/No  \\href{}{[link]}  \\\\ \n",
      "S20 & GEOG 136, Water, Energy, and Ecosystems & Lec & 1 & 4 & 1 & 10 & Yes/Yes  \\href{https://ucsb.box.com/s/4k3squfamwz4gg5mj2q79wo5qk29bubb}{[link]}  \\\\ \n",
      "S20 & GEOG 596, Directed Reading and Research & Tut & 0 &  & 1 & 1 & No/No  \\href{}{[link]}  \\\\ \n",
      "S20 & GEOG 597, Individual Study - PhD Exam & Tut & 0 &  & 1 & 1 & No/No  \\href{}{[link]}  \\\\ \n",
      "S20 & GEOG 598, Master’s Thesis & Tut & 0 &  & 1 & 1 & No/No  \\href{}{[link]}  \\\\ \n",
      "S20 & GEOG 599, PhD Dissertation & Tut & 0 &  & 1 & 1 & No/No  \\href{}{[link]}  \\\\ \n",
      "F20 & ESM 203, Earth System Science & Lec & 0.5 & 4 & 1 & 83 & Yes/Yes  \\href{https://ucsb.box.com/s/x8g8gcl7mtfahclm1zledaita1z5tgin}{[link]}  \\\\ \n",
      "F20 & Credit, Geography IWC Credit for ERI Directorship & - & 0.75 &  &  &  & /  \\\\ \n",
      "F20 & Credit, Bren IWC Credit for ERI Directorship & - & 0.88 &  &  &  & /  \\\\ \n",
      "F20 & ESM 401B, Group Project - B & Dis & 0.29 & 4 & 1 & 4 & No/No  \\href{}{[link]}  \\\\ \n",
      "F20 & GEOG 596, Directed Reading and Research & Tut & 0 &  & 2 & 2 & No/No  \\href{}{[link]}  \\\\ \n",
      "F20 & GEOG 597, Individual Study - PhD Exam & Tut & 0 &  & 1 & 1 & No/No  \\href{}{[link]}  \\\\ \n",
      "F20 & GEOG 598, Master’s Thesis & Tut & 0 &  & 1 & 1 & No/No  \\href{}{[link]}  \\\\ \n",
      "F20 & GEOG 599, PhD Dissertation & Tut & 0 &  & 2 & 2 & No/No  \\href{}{[link]}  \\\\ \n",
      "W21 & ESM 401C , Group Project - C & Dis & 0.29 & 4 & 1 & 4 & No/No  \\href{}{[link]}  \\\\ \n",
      "W21 & GEOG 596, Directed Reading and Research & Tut & 0 &  & 2 & 2 & No/No  \\href{}{[link]}  \\\\ \n",
      "W21 & GEOG 597, Individual Study - PhD Exam & Tut & 0 &  & 1 & 1 & No/No  \\href{}{[link]}  \\\\ \n",
      "W21 & GEOG 598, Master’s Thesis & Tut & 0 &  & 1 & 1 & No/No  \\href{}{[link]}  \\\\ \n",
      "W21 & GEOG 599, PhD Dissertation & Tut & 0 &  & 2 & 2 & No/No  \\href{}{[link]}  \\\\ \n",
      "S21 & ESM 401A, Group Project - A & Lec & 0.29 & 4 & 1 & 5 & No/No  \\href{}{[link]}  \\\\ \n",
      "S21 & ESM 401D, Group Project - D & Dis & 0.13 & 2 & 1 & 4 & No/No  \\href{}{[link]}  \\\\ \n",
      "S21 & GEOG 288KC, Special Topics in Geography & Dis & 1 & 2 & 1 & 5 & Yes/Yes  \\href{https://ucsb.box.com/s/wkdexakrybpri16xk2gu5860so2ae0xa}{[link]}  \\\\ \n",
      "S21 & GEOG 596, Directed Reading and Research & Tut & 0 &  & 1 & 1 & No/No  \\href{}{[link]}  \\\\ \n",
      "S21 & GEOG 597, Individual Study - PhD Exam & Tut & 0 &  & 1 & 1 & No/No  \\href{}{[link]}  \\\\ \n",
      "S21 & GEOG 598, Master’s Thesis & Tut & 0 &  & 1 & 1 & No/No  \\href{}{[link]}  \\\\ \n",
      "S21 & GEOG 599, PhD Dissertation & Tut & 0 &  & 1 & 1 & No/No  \\href{}{[link]}  \\\\ \n",
      " \n",
      "\\end{longtable}\n"
     ]
    }
   ],
   "source": [
    "print(courses_table.render_template())"
   ]
  },
  {
   "cell_type": "code",
   "execution_count": 54,
   "metadata": {},
   "outputs": [],
   "source": [
    "cv_table = Courses(sheet=sh,worksheet='Courses',table_name='Courses',template=courses_cv_template)"
   ]
  },
  {
   "cell_type": "code",
   "execution_count": 55,
   "metadata": {},
   "outputs": [
    {
     "name": "stdout",
     "output_type": "stream",
     "text": [
      "% CV Catalog Courses Table\n",
      "% Created on 2023-06-29 16:55\n",
      "\n",
      "\\begin{longtable}{p{1cm}p{7cm}}\n",
      "Year & Course \\\\\n",
      "\\hline \n",
      "\\endfirsthead\n",
      "\n",
      "\\multicolumn{2}{l}%\n",
      "{{Courses - continued from previous page }} \\\\ \\\\\n",
      "Year & Course \\\\\n",
      "\\hline \n",
      "\\endhead\n",
      "\n",
      "\\\\\n",
      "\\multicolumn{2}{l}%\n",
      "{{ Courses continued on next page }} \\\\\n",
      "\\endfoot\n",
      "\n",
      "\\hline \\hline\n",
      "\\endlastfoot\n",
      "\n",
      "2018 & ESM 203, Earth System Science \\\\ \n",
      "2019 & ESM 401A, Group Project - A \\\\ \n",
      "2019 & G136, Water, Energy, and Ecosystems \\\\ \n",
      "2019 & ESM 203, Earth System Science \\\\ \n",
      "2020 & ESM 401A, Group Project - A \\\\ \n",
      "2020 & GEOG 136, Water, Energy, and Ecosystems \\\\ \n",
      "2020 & ESM 203, Earth System Science \\\\ \n",
      "2021 & ESM 401A, Group Project - A \\\\ \n",
      " \n",
      "\\end{longtable}\n"
     ]
    }
   ],
   "source": [
    "print(cv_table.render_template())"
   ]
  },
  {
   "cell_type": "code",
   "execution_count": 38,
   "metadata": {},
   "outputs": [],
   "source": [
    "#| hide\n",
    "import nbdev; nbdev.nbdev_export()"
   ]
  }
 ],
 "metadata": {
  "kernelspec": {
   "display_name": "biobib",
   "language": "python",
   "name": "python3"
  },
  "language_info": {
   "codemirror_mode": {
    "name": "ipython",
    "version": 3
   },
   "file_extension": ".py",
   "mimetype": "text/x-python",
   "name": "python",
   "nbconvert_exporter": "python",
   "pygments_lexer": "ipython3",
   "version": "3.10.9"
  }
 },
 "nbformat": 4,
 "nbformat_minor": 4
}
