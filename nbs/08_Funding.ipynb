{
 "cells": [
  {
   "attachments": {},
   "cell_type": "markdown",
   "metadata": {},
   "source": [
    "# Funding\n",
    "\n",
    "A set of tables for handling funding activities\n"
   ]
  },
  {
   "cell_type": "code",
   "execution_count": 66,
   "metadata": {},
   "outputs": [],
   "source": [
    "#| default_exp Funding"
   ]
  },
  {
   "cell_type": "code",
   "execution_count": 67,
   "metadata": {},
   "outputs": [],
   "source": [
    "#| export\n",
    "#| hide\n",
    "from biobib.table import Table, sh, safe_float\n",
    "from biobib.sheet import Sheet\n",
    "from nbdev import show_doc\n",
    "import pandas as pd\n",
    "import time\n",
    "import copy"
   ]
  },
  {
   "cell_type": "code",
   "execution_count": 68,
   "metadata": {},
   "outputs": [],
   "source": [
    "#| hide\n",
    "from fastcore.test import *\n",
    "from fastcore.test import *\n",
    "from fastcore.basics import *\n",
    "from fastcore.foundation import *"
   ]
  },
  {
   "attachments": {},
   "cell_type": "markdown",
   "metadata": {},
   "source": [
    "### Define a template for funding activities\n",
    "\n",
    "Here is a template we can use for funding activities. It generates a longtable which can span multiple pages, and provides the years, funding source, proposal name and amount for each grant"
   ]
  },
  {
   "cell_type": "code",
   "execution_count": 69,
   "metadata": {},
   "outputs": [],
   "source": [
    "funding_biobib_template = r'''% UC Bio-bib Funding Table\n",
    "% Created on \\VAR{created}\n",
    "\n",
    "\\begin{longtable}{p{1.75cm}>{\\raggedright}p{2.cm}p{5cm}|p{1.25cm}p{1.25cm}p{1.25cm}|p{0.75cm}p{0.75cm}}\n",
    "Years & Agency/Source & Title & Total Amount & Total to UCSB & Personal Share & Role & New/Cont.\\\\\n",
    "\\hline \n",
    "\\endfirsthead\n",
    "\n",
    "\\multicolumn{8}{c}%\n",
    "{{\\VAR{table_name} - continued from previous page }} \\\\ \\\\\n",
    "Years & Agency/Source & Title & Total Amount & Total to UCSB & Personal Share & Role & New/Cont.\\\\\n",
    "\\hline \n",
    "\\endhead\n",
    "\n",
    "\\\\\n",
    "\\multicolumn{8}{c}%\n",
    "{{ \\VAR{table_name} continued on next page }} \\\\\n",
    "\\endfoot\n",
    "\n",
    "\\hline \\hline\n",
    "\\endlastfoot\n",
    "\n",
    "\\BLOCK{for grant in items}\n",
    "\\VAR{grant|make_years} & \\VAR{grant.Source|tex_escape} & \\VAR{grant.Title|tex_escape} & \\VAR{grant['Total Amount']|tex_escape} & \\VAR{grant['Total to UCSB']|tex_escape} & \\BLOCK{if grant['Pooled Funds']} Pooled \\BLOCK{else} \\VAR{grant['Personal Share']|tex_escape} \\BLOCK{endif} & \\VAR{grant.Role|tex_escape}  & \\VAR{grant.Type|tex_escape} \\\\ \n",
    "\\BLOCK{endfor}\n",
    "& & \\multicolumn{1}{r} {\\bf Total New :} & \\VAR{total_new['Total Amount']|tex_escape} & \\VAR{total_new['Total to UCSB']|tex_escape} & \\VAR{total_new['Total Personal Share']|tex_escape} & & \\\\\n",
    "& & \\multicolumn{1}{r} {\\bf Total :} & \\VAR{total['Total Amount']|tex_escape} & \\VAR{total['Total to UCSB']|tex_escape} & \\VAR{total['Total Personal Share']|tex_escape} & & \\\\\n",
    "\n",
    "\\end{longtable}\n",
    "\n",
    "'''"
   ]
  },
  {
   "cell_type": "code",
   "execution_count": 70,
   "metadata": {},
   "outputs": [],
   "source": [
    "class Funding(Table):\n",
    "    \"\"\" \n",
    "    A Funding class of Table for use in generating biobibs and CVs \n",
    "    \"\"\"\n",
    "    def __init__(\n",
    "            self,\n",
    "            sheet:Sheet=None, # Google sheet object\n",
    "            worksheet:str='Grants',   # worksheet name in google sheet\n",
    "            csv_file:str=None, # optional csv file (if using csv files) \n",
    "            table_name:str=None, # Will be determined from category.\n",
    "            cumulative:bool=False, # Is this table cumulative? \n",
    "            template=funding_biobib_template # template content\n",
    "    ): \n",
    "        filters = {\n",
    "            'make_years': self.make_years\n",
    "        }\n",
    "        super().__init__(\n",
    "            sheet=sheet,\n",
    "            worksheet=worksheet, \n",
    "            table_name=table_name,\n",
    "            csv_file=csv_file,\n",
    "            filters=filters, \n",
    "            template=template)\n",
    "        self.cumulative = cumulative\n",
    "        self.df = self.clean_df()\n",
    "    \n",
    "    def total(self, new=False):\n",
    "        if new:\n",
    "            funds = self.df[self.df['Type'] == 'New']\n",
    "        else:\n",
    "            funds = self.df\n",
    "\n",
    "        return {\n",
    "            'Total Amount': '${:,.0f}'.format(\n",
    "                funds['Total Amount'].replace('[\\$,]', '', regex=True).apply(safe_float).sum()),\n",
    "            'Total to UCSB': '${:,.0f}'.format(\n",
    "                funds['Total to UCSB'].replace('[\\$,]', '', regex=True).apply(safe_float).sum()),\n",
    "            'Total Personal Share': '${:,.0f}'.format(\n",
    "                funds['Personal Share'].replace('[\\$,]', '', regex=True).apply(safe_float).sum())\n",
    "        }\n",
    "\n",
    "\n",
    "    def clean_df(self):\n",
    "        df = copy.deepcopy(self.df)\n",
    "        df = super().table_clean_df()\n",
    "        df = df[df['Funded'].astype(int) == 1]\n",
    "        # Replace NaN with a 'nan' string for checking later\n",
    "        df['Start Date'].fillna('nan', inplace=True)\n",
    "        df['End Date'].fillna('nan', inplace=True)\n",
    "        df = df.sort_values(by=['Start Year', 'Total Amount'],\n",
    "                            ascending=[True, False])\n",
    "        return df\n",
    "\n",
    "    def make_years(self, row):\n",
    "        if row['Start Date'] != 'nan' and row['End Date'] != 'nan':\n",
    "            return \"{start}-{end}\".format(\n",
    "                start=row['Start Date'],\n",
    "                end=row['End Date'])\n",
    "        else:\n",
    "            return \"{start}-{end}\".format(\n",
    "                start=row['Start Year'],\n",
    "                end=row['End Year'])\n",
    "\n",
    "    def render_template(self):\n",
    "        rendered_tex = self.template.render(\n",
    "            table_name=self.table_name,\n",
    "            created=time.strftime(\"%Y-%m-%d %H:%M\"),\n",
    "            items=list(self.df.to_dict('records')),\n",
    "            total=self.total(new=False),\n",
    "            total_new=self.total(new=True)\n",
    "        )\n",
    "        return rendered_tex\n",
    "\n",
    "    "
   ]
  },
  {
   "attachments": {},
   "cell_type": "markdown",
   "metadata": {},
   "source": [
    "### Provide a data cleaning function for the service table\n",
    "\n"
   ]
  },
  {
   "cell_type": "code",
   "execution_count": 71,
   "metadata": {},
   "outputs": [],
   "source": [
    "funding_table = Funding(\n",
    "    sheet=sh,worksheet='Grants',table_name='Funding',\n",
    "    template=funding_biobib_template)"
   ]
  },
  {
   "cell_type": "code",
   "execution_count": 72,
   "metadata": {},
   "outputs": [],
   "source": [
    "test_eq(funding_table.table_name,'Funding')\n",
    "test_eq(list(funding_table.df.columns),\n",
    "        ['Start Year', 'End Year', 'Year', 'Start Date', \n",
    "         'End Date', 'Title', 'Source', 'Program', \n",
    "         'Total Amount', 'Total to UCSB', 'Personal Share', \n",
    "         'Role', 'Summer Salary', 'Pooled Funds', 'Award Number', \n",
    "         'Duration', 'Yearly Amount', 'NSF', 'Federal, Non-NSF', \n",
    "         'Foundation', 'Other', 'Eval', \n",
    "         'Type', 'Funded', 'Active'])"
   ]
  },
  {
   "cell_type": "code",
   "execution_count": 73,
   "metadata": {},
   "outputs": [
    {
     "name": "stdout",
     "output_type": "stream",
     "text": [
      "% UC Bio-bib Funding Table\n",
      "% Created on 2023-06-29 18:35\n",
      "\n",
      "\\begin{longtable}{p{1.75cm}>{\\raggedright}p{2.cm}p{5cm}|p{1.25cm}p{1.25cm}p{1.25cm}|p{0.75cm}p{0.75cm}}\n",
      "Years & Agency/Source & Title & Total Amount & Total to UCSB & Personal Share & Role & New/Cont.\\\\\n",
      "\\hline \n",
      "\\endfirsthead\n",
      "\n",
      "\\multicolumn{8}{c}%\n",
      "{{Funding - continued from previous page }} \\\\ \\\\\n",
      "Years & Agency/Source & Title & Total Amount & Total to UCSB & Personal Share & Role & New/Cont.\\\\\n",
      "\\hline \n",
      "\\endhead\n",
      "\n",
      "\\\\\n",
      "\\multicolumn{8}{c}%\n",
      "{{ Funding continued on next page }} \\\\\n",
      "\\endfoot\n",
      "\n",
      "\\hline \\hline\n",
      "\\endlastfoot\n",
      "\n",
      "7/1/2022-6/30/2025 & Zegar Foundation & Ecohydrological Resilience of Vegetation to Water Availability and Drought & \\$672,079 & \\$672,079 &  Pooled  & PI  & New \\\\ \n",
      "1/1/2023-12/31/2023 & National Science Foundation & NSF Convergence Accelerator Track J: Predicting the effect of climate extremes on the food system to improve resilience of global and local food security & \\$748,674 & \\$748,674 &  Pooled  & Co-PI  & New \\\\ \n",
      "9/1/2023-8/31/2025 & Department of Energy & Improving ESS approaches to evapotranspiration partitioning through data fusion & \\$399,007 & \\$24,994 &  Pooled  & Co-PI  & New \\\\ \n",
      "8/1/2023-7/31/2028 & Department of Defense & The Climate-Food-Urbanization Nexus and the Precursors of Instability in Africa & \\$3,073,150 & \\$1,467,078 &  Pooled  & Co-PI  & New \\\\ \n",
      "& & \\multicolumn{1}{r} {\\bf Total New :} & \\$4,892,910 & \\$2,912,825 & \\$2,912,825 & & \\\\\n",
      "& & \\multicolumn{1}{r} {\\bf Total :} & \\$4,892,910 & \\$2,912,825 & \\$2,912,825 & & \\\\\n",
      "\n",
      "\\end{longtable}\n",
      "\n"
     ]
    }
   ],
   "source": [
    "print(funding_table.render_template())"
   ]
  },
  {
   "cell_type": "code",
   "execution_count": 74,
   "metadata": {},
   "outputs": [],
   "source": [
    "funding_cv_template = r'''% CV Funding Table\n",
    "% Created on \\VAR{created}\n",
    "\n",
    "{\\bf Total: }\\VAR{total['Total Amount']|tex_escape}  \\\\\n",
    "\n",
    "\\begin{longtable}{p{1.75cm}>{\\raggedright}p{2.cm}p{12cm}}\n",
    "\\endfirsthead\n",
    "\n",
    "\\multicolumn{3}{c}%\n",
    "{{\\VAR{table_name} - continued from previous page }} \\\\ \\\\\n",
    "\\endhead\n",
    "\n",
    "\\\\\n",
    "\\multicolumn{3}{c}%\n",
    "{{ \\VAR{table_name} continued on next page }} \\\\\n",
    "\\endfoot\n",
    "\n",
    "\n",
    "\\endlastfoot\n",
    "\n",
    "\n",
    "\\BLOCK{for grant in items|reversed }\n",
    "\\VAR{grant['Start Year']}-\\VAR{grant['End Year']} & \\VAR{grant.Source|tex_escape} & \\VAR{grant.Title|tex_escape}, \\VAR{grant.Role|tex_escape} (\\VAR{grant['Total Amount']|tex_escape}) \\\\ \n",
    "\\BLOCK{endfor}\n",
    "\n",
    "\\end{longtable}\n",
    "'''"
   ]
  },
  {
   "cell_type": "code",
   "execution_count": 75,
   "metadata": {},
   "outputs": [],
   "source": [
    "cv_table = Funding(\n",
    "    sheet=sh,worksheet='Grants',table_name='Funding',\n",
    "    cumulative=True,\n",
    "    template=funding_cv_template)"
   ]
  },
  {
   "cell_type": "code",
   "execution_count": 76,
   "metadata": {},
   "outputs": [
    {
     "name": "stdout",
     "output_type": "stream",
     "text": [
      "% CV Funding Table\n",
      "% Created on 2023-06-29 18:35\n",
      "\n",
      "{\\bf Total: }\\$23,711,262  \\\\\n",
      "\n",
      "\\begin{longtable}{p{1.75cm}>{\\raggedright}p{2.cm}p{12cm}}\n",
      "\\endfirsthead\n",
      "\n",
      "\\multicolumn{3}{c}%\n",
      "{{Funding - continued from previous page }} \\\\ \\\\\n",
      "\\endhead\n",
      "\n",
      "\\\\\n",
      "\\multicolumn{3}{c}%\n",
      "{{ Funding continued on next page }} \\\\\n",
      "\\endfoot\n",
      "\n",
      "\n",
      "\\endlastfoot\n",
      "\n",
      "\n",
      "2023-2028 & Department of Defense & The Climate-Food-Urbanization Nexus and the Precursors of Instability in Africa, Co-PI (\\$3,073,150) \\\\ \n",
      "2023-2025 & Department of Energy & Improving ESS approaches to evapotranspiration partitioning through data fusion, Co-PI (\\$399,007) \\\\ \n",
      "2023-2023 & National Science Foundation & NSF Convergence Accelerator Track J: Predicting the effect of climate extremes on the food system to improve resilience of global and local food security, Co-PI (\\$748,674) \\\\ \n",
      "2022-2025 & Zegar Foundation & Ecohydrological Resilience of Vegetation to Water Availability and Drought, PI (\\$672,079) \\\\ \n",
      "2019-2023 & National Science Foundation & CNH2-L:  Linkages and Interactions Between Urban Food Security and Rural Agricultural Systems, Co-PI (\\$1,600,000) \\\\ \n",
      "2019-2021 & Zegar Foundation & Developing and Implementing Novel Tools for Assessing Riparian Ecosystem Resilience at the Dangermond Preserve, PI (\\$321,583) \\\\ \n",
      "2018-2022 & Department of Defense, SERDP & Strategic Environmental Research \\& Development: Understanding and Assessing Riparian Habitat Vulnerability to Drought-Prone Climate Regimes on Department of Defense Bases in the Southwestern US \n",
      ", Co-PI (\\$1,704,236) \\\\ \n",
      "2018-2019 & National Geographic Society & Global maps of center pivot agriculture for improving estimates of land use change and water use, PI (\\$100,811) \\\\ \n",
      "2018-2018 & The Nature Conservancy & Task 25: Dangermond Preserve Bren Summer Internships and Group Project, PI (\\$17,000) \\\\ \n",
      "2018-2019 & National Science Foundation & WSC-Category 2 Collaborative: Impacts of Agricultural Decision Making and Adaptive Management on Food Security, PI (\\$628,779) \\\\ \n",
      "2018-2019 & Omidyar Foundation & Developing and Scaling up the Mapping Africa Active Learning Platform, PI (\\$79,838) \\\\ \n",
      "2017-2019 & Clark University & Hazards SEES: Understanding Cross-Scale Interactions of Trade and Food Policy to Improve Resilience to Drought Risk, PI (\\$103,249) \\\\ \n",
      "2017-2020 & National Science Foundation & Collaborative Research: Impacts of Dynamic Climate-Driven Water Availability on Tree Water Use and Health in Mediterranean Riparian Forests \n",
      ", Co-PI (\\$396,566) \\\\ \n",
      "2017-2020 & National Science Foundation & CC*Networking Infrastructure: UCSB Network Upgrade to 100 Gigabit. , PI (\\$481,730) \\\\ \n",
      "2015-2019 & National Science Foundation & Hazards SEES: Understanding Cross-Scale Interactions of Trade and Food Policy to Improve Resilience to Drought Risk, Co-PI (\\$2,519,689) \\\\ \n",
      "2015-2015 & National Science Foundation & I-Corps: Pulsepod: Bringing the Cloud Down to Earth, PI (\\$50,000) \\\\ \n",
      "2014-2018 & National Science Foundation & WSC-Category 2 Collaborative: Impacts of Agricultural Decision Making and Adaptive Management on Food Security, PI (\\$1,929,565) \\\\ \n",
      "2013-2014 & JPL & Adding precision to agricultural prac- tice through simultaneous chlorophyll fluorescence and infrared observations, Co-PI (\\$100,000) \\\\ \n",
      "2013-2014 & JPL & Rapid forest triage by sub-canopy mi- cro air vehicle, Co-PI (\\$100,000) \\\\ \n",
      "2013-2015 & Princeton University & Drought and the global carbon cycle, Co-PI (\\$200,000) \\\\ \n",
      "2012-2016 & National Science Foundation & Collaborative research: Quantifying the ecosystem-wide impacts of a strong interactor in African watersheds, PI (\\$123,336) \\\\ \n",
      "2011-2014 & NASA & Multiscale effects of fire on long-term climate and precipitation, Co-I (\\$1,149,128) \\\\ \n",
      "2011-2016 & National Science Foundation & CNH: Institutional Dynamics of Adaptation to Climate Change: Longitudinal Analysis of Snowmelt-Dependent Agricultural Systems, Co-PI (\\$1,200,000) \\\\ \n",
      "2011-2014 & Princeton University & A global collaborative network for coupling hydrological forecasts and food security in Sub-Saharan Africa and China , PI (\\$225,000) \\\\ \n",
      "2010-2011 & Princeton University & The Importance of Green Feedbacks on Biodiversity Conservation and Management of Savanna Ecosystems, PI (\\$100,000) \\\\ \n",
      "2010-2015 & National Science Foundation & ESE: Collaborative Research: Spatial Resilience of Agriculturalists to Coupled Ecological and Hydrological Variability in Rural Zambia, PI (\\$350,000) \\\\ \n",
      "2009-2014 & National Science Foundation & CAREER: An ecohydrological framework for understanding land degradation in dryland ecosystems, PI (\\$1,543,738) \\\\ \n",
      "2009-2011 & National Science Foundation & US - Kenya Doctoral Dissertation Enhancement Project: The Impact of Macropores on the Spatial and Temporal Patterns of Soil Moisture in Dryland Ecosystems of Central Kenya, PI (\\$15,000) \\\\ \n",
      "2009-2009 & Li-COR Biosciences & Using the LI-6400XT in the Princeton Semester in Kenya Program: From Undergraduate Education to International Impact, PI (\\$45,000) \\\\ \n",
      "2008-2013 & National Science Foundation & LTREB: KLEE- scaling up and out at the Kenya Long-term Exclosure Experiment, Co-PI (\\$449,800) \\\\ \n",
      "2007-2010 & National Science Foundation & Collaborative Proposal: Distribution and Dynamics of Belowground Carbon in Savannas, PI (\\$208,344) \\\\ \n",
      "2007-2008 & Indiana University & Quantifying organic and pharmaceutical contaminants within urbanizing streams in a central Indiana urbanizing watershed, PI (\\$51,323) \\\\ \n",
      "2007-2010 & National Science Foundation & HSD: Dynamics of Reforestation in Coupled Social-Ecological Systems: Modeling Land-Use Decision Making and Policy Impacts, Co-PI (\\$755,115) \\\\ \n",
      "2007-2008 & Monroe County Drainage Board & Quantifying the impacts of development on physical and chemical hydrology of central Indiana streams , PI (\\$96,000) \\\\ \n",
      "2006-2010 & National Science Foundation & IRES: US-South Africa International Research Experience for Students -- Impacts of Disturbance on Above- and Below-ground Structure of Southern African Savannas, Co-PI (\\$623,522) \\\\ \n",
      "2005-2007 & NASA & Sources, Transports, and Impacts of Southern African Aerosols: Synthetic Case Studies Using Terra \\& Aqua Satellite Products, Co-I (\\$650,000) \\\\ \n",
      "2005-2007 & NASA & Hydrologic \\& Nutrient Controls on the Structure and Function of Southern African Savannas: A Multi-Scale Approach, Co-I (\\$900,000) \\\\ \n",
      "\n",
      "\\end{longtable}\n"
     ]
    }
   ],
   "source": [
    "print(cv_table.render_template())"
   ]
  },
  {
   "cell_type": "code",
   "execution_count": 77,
   "metadata": {},
   "outputs": [],
   "source": [
    "cv_table.write_template(path='../tex/CV/')"
   ]
  },
  {
   "cell_type": "code",
   "execution_count": 78,
   "metadata": {},
   "outputs": [],
   "source": [
    "#| hide\n",
    "import nbdev; nbdev.nbdev_export()"
   ]
  }
 ],
 "metadata": {
  "kernelspec": {
   "display_name": "biobib",
   "language": "python",
   "name": "python3"
  },
  "language_info": {
   "codemirror_mode": {
    "name": "ipython",
    "version": 3
   },
   "file_extension": ".py",
   "mimetype": "text/x-python",
   "name": "python",
   "nbconvert_exporter": "python",
   "pygments_lexer": "ipython3",
   "version": "3.10.9"
  }
 },
 "nbformat": 4,
 "nbformat_minor": 4
}
