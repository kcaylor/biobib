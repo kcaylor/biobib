{
 "cells": [
  {
   "attachments": {},
   "cell_type": "markdown",
   "metadata": {},
   "source": [
    "# table\n",
    "\n",
    "> a table object for use in generating biobibs and CVs\n"
   ]
  },
  {
   "cell_type": "code",
   "execution_count": 123,
   "metadata": {},
   "outputs": [],
   "source": [
    "#| default_exp table"
   ]
  },
  {
   "cell_type": "code",
   "execution_count": 124,
   "metadata": {},
   "outputs": [],
   "source": [
    "#| hide\n",
    "#| export\n",
    "import pandas as pd\n",
    "import numpy as np\n",
    "import time\n",
    "import re\n",
    "from biobib.sheet import Sheet\n",
    "from jinja2 import Environment, FileSystemLoader, Template\n",
    "from read_google_sheet import get_dataframe\n",
    "from read_google_sheet import biobib_sheet as sh\n",
    "import copy\n",
    "from nbdev import show_doc\n",
    "from fastcore.test import *\n",
    "from fastcore.test import *\n",
    "from fastcore.basics import *\n",
    "from fastcore.foundation import *"
   ]
  },
  {
   "cell_type": "code",
   "execution_count": 125,
   "metadata": {},
   "outputs": [],
   "source": [
    "#| export\n",
    "def safe_float(val):\n",
    "    try:\n",
    "        return float(val)\n",
    "    except ValueError:\n",
    "        return 0\n"
   ]
  },
  {
   "attachments": {},
   "cell_type": "markdown",
   "metadata": {},
   "source": [
    "### Create a latex_env \n",
    "\n",
    "We need to create and environment for generating formated latex content. This environment specifies how a `block` will be initiated and terminated in jinja, as well as how variables and comments will be defined."
   ]
  },
  {
   "cell_type": "code",
   "execution_count": 126,
   "metadata": {},
   "outputs": [],
   "source": [
    "#| export\n",
    "latex_env = Environment(\n",
    "    extensions=['jinja2.ext.do'],\n",
    "    block_start_string='\\BLOCK{',\n",
    "    block_end_string='}',\n",
    "    variable_start_string='\\VAR{',\n",
    "    variable_end_string='}',\n",
    "    comment_start_string='\\#{',\n",
    "    comment_end_string='}',\n",
    "    line_statement_prefix='%%',\n",
    "    line_comment_prefix='%#',\n",
    "    trim_blocks=True,\n",
    "    autoescape=False,\n",
    "    loader=FileSystemLoader('templates'))\n"
   ]
  },
  {
   "attachments": {},
   "cell_type": "markdown",
   "metadata": {},
   "source": [
    "### Author definitions\n",
    "\n",
    "Authorship data is stored in a series of columns, labelled `A1`, `A2`, etc... up to a maximum of 30 authors (`A30`). If more authors are needed for an article, then the `max_author` variable needs to be changed."
   ]
  },
  {
   "cell_type": "code",
   "execution_count": 127,
   "metadata": {},
   "outputs": [],
   "source": [
    "max_author = 30 # maximum number of authors in any manuscript\n",
    "\n",
    "# define the author columns (A1 - A30)\n",
    "author_cols = ['A' + str(i+1) for i in range(max_author)]\n"
   ]
  },
  {
   "cell_type": "code",
   "execution_count": 128,
   "metadata": {},
   "outputs": [],
   "source": [
    "test_eq(len(author_cols),max_author)"
   ]
  },
  {
   "attachments": {},
   "cell_type": "markdown",
   "metadata": {},
   "source": [
    "Set some keys for specifting author information"
   ]
  },
  {
   "cell_type": "code",
   "execution_count": 129,
   "metadata": {},
   "outputs": [],
   "source": [
    "#| export\n",
    "decorate_dict = {\n",
    "    'Undergrad Author': \"-UUUU-\",\n",
    "    'Visitor Author': \"-VVVV-\",\n",
    "    'PhD Committee Member': \"-MMMM-\",\n",
    "    'Graduate Advisee': \"-AAAA-\",\n",
    "    'Postdoctoral Advisee': \"-PPPP-\"\n",
    "}"
   ]
  },
  {
   "attachments": {},
   "cell_type": "markdown",
   "metadata": {},
   "source": [
    "## Helper functions\n"
   ]
  },
  {
   "cell_type": "code",
   "execution_count": 130,
   "metadata": {},
   "outputs": [],
   "source": [
    "#| export\n",
    "def to_int(value:int|str # value to coerce\n",
    "          )->int: # value\n",
    "    \"\"\" coerces any value to an integer representation \"\"\"\n",
    "    try:\n",
    "        v = str(int(value))\n",
    "    except:\n",
    "        v = value\n",
    "    return v"
   ]
  },
  {
   "cell_type": "code",
   "execution_count": 131,
   "metadata": {},
   "outputs": [
    {
     "data": {
      "text/markdown": [
       "---\n",
       "\n",
       "[source](https://github.com/kcaylor/biobib/blob/master/biobib/table.py#L49){target=\"_blank\" style=\"float:right; font-size:smaller\"}\n",
       "\n",
       "### to_int\n",
       "\n",
       ">      to_int (value:int|str)\n",
       "\n",
       "coerces any value to an integer representation\n",
       "\n",
       "|    | **Type** | **Details** |\n",
       "| -- | -------- | ----------- |\n",
       "| value | int \\| str | value to coerce |\n",
       "| **Returns** | **int** | **value** |"
      ],
      "text/plain": [
       "---\n",
       "\n",
       "[source](https://github.com/kcaylor/biobib/blob/master/biobib/table.py#L49){target=\"_blank\" style=\"float:right; font-size:smaller\"}\n",
       "\n",
       "### to_int\n",
       "\n",
       ">      to_int (value:int|str)\n",
       "\n",
       "coerces any value to an integer representation\n",
       "\n",
       "|    | **Type** | **Details** |\n",
       "| -- | -------- | ----------- |\n",
       "| value | int \\| str | value to coerce |\n",
       "| **Returns** | **int** | **value** |"
      ]
     },
     "execution_count": 131,
     "metadata": {},
     "output_type": "execute_result"
    }
   ],
   "source": [
    "show_doc(to_int)"
   ]
  },
  {
   "cell_type": "code",
   "execution_count": 132,
   "metadata": {},
   "outputs": [],
   "source": [
    "#| export\n",
    "def make_cell(text:str, # string to split into a cell\n",
    "              size:str='' # spacing \n",
    "             )->str: # wrapped text\n",
    "    \"\"\"\n",
    "        wrap text in a makecell\n",
    "    \"\"\"\n",
    "    # split text by commas:\n",
    "    text = ''.join([x + ',\\\\\\\\' for x in text.split(',')])\n",
    "    text = text[:-3]\n",
    "    text = \"{\" + size + \" \\\\makecell{ \" + text + \"} }\"\n",
    "    return text\n"
   ]
  },
  {
   "cell_type": "code",
   "execution_count": 133,
   "metadata": {},
   "outputs": [
    {
     "data": {
      "text/markdown": [
       "---\n",
       "\n",
       "[source](https://github.com/kcaylor/biobib/blob/master/biobib/table.py#L59){target=\"_blank\" style=\"float:right; font-size:smaller\"}\n",
       "\n",
       "### make_cell\n",
       "\n",
       ">      make_cell (text:str, size:str='')\n",
       "\n",
       "wrap text in a makecell\n",
       "\n",
       "|    | **Type** | **Default** | **Details** |\n",
       "| -- | -------- | ----------- | ----------- |\n",
       "| text | str |  | string to split into a cell |\n",
       "| size | str |  | spacing |\n",
       "| **Returns** | **str** |  | **wrapped text** |"
      ],
      "text/plain": [
       "---\n",
       "\n",
       "[source](https://github.com/kcaylor/biobib/blob/master/biobib/table.py#L59){target=\"_blank\" style=\"float:right; font-size:smaller\"}\n",
       "\n",
       "### make_cell\n",
       "\n",
       ">      make_cell (text:str, size:str='')\n",
       "\n",
       "wrap text in a makecell\n",
       "\n",
       "|    | **Type** | **Default** | **Details** |\n",
       "| -- | -------- | ----------- | ----------- |\n",
       "| text | str |  | string to split into a cell |\n",
       "| size | str |  | spacing |\n",
       "| **Returns** | **str** |  | **wrapped text** |"
      ]
     },
     "execution_count": 133,
     "metadata": {},
     "output_type": "execute_result"
    }
   ],
   "source": [
    "show_doc(make_cell)"
   ]
  },
  {
   "cell_type": "code",
   "execution_count": 134,
   "metadata": {},
   "outputs": [],
   "source": [
    "#| export\n",
    "def tex_escape(text:str # plain text message\n",
    "              )->str: # message escaped to appear correctly in LaTex\n",
    "    \"\"\"\n",
    "    formats text for use in LaTex\n",
    "    \"\"\"\n",
    "    conv = {\n",
    "        '-UUUU-': r'$^{\\ddagger}$',\n",
    "        '-VVVV-': r'$^{\\star}$',\n",
    "        '-MMMM-': r'$^{\\bullet}$',\n",
    "        '-AAAA-': r'$^{\\blacktriangle}$',\n",
    "        '-PPPP-': r'$^{\\blacklozenge}$',\n",
    "        '-BOLD_START-': r'\\textbf{',\n",
    "        '-BOLD_END-': r'}',\n",
    "        '&': r'\\&',\n",
    "        '%': r'\\%',\n",
    "        '$': r'\\$',\n",
    "        '#': r'\\#',\n",
    "        '_': r'\\_',\n",
    "        '{': r'\\{',\n",
    "        '}': r'\\}',\n",
    "        '~': r'\\textasciitilde{}',\n",
    "        '^': r'\\^{}',\n",
    "        '\\\\': r'\\textbackslash{}',\n",
    "        '<': r'\\textless{}',\n",
    "        '>': r'\\textgreater{}',\n",
    "        'Ω': r'$\\Omega$',\n",
    "        'δ': r'$\\delta$',\n",
    "        '’': r\"'\",\n",
    "        '‐': r'--',\n",
    "        '“': r'``',\n",
    "        '”': r\"''\",\n",
    "        'é': r'\\'e',\n",
    "        '(?:^|\\W)nan(?:$|\\W)': r'--'   \n",
    "    }\n",
    "\n",
    "    text = str(text)\n",
    "    regex = re.compile('|'.join(re.escape(key) for key in sorted(conv.keys(), key=lambda item: - len(item))))  # NOQA\n",
    "    result = regex.sub(lambda match: conv[match.group()], text)\n",
    "    if result == 'nan':\n",
    "        result = ''\n",
    "    return result\n"
   ]
  },
  {
   "cell_type": "code",
   "execution_count": 135,
   "metadata": {},
   "outputs": [
    {
     "data": {
      "text/markdown": [
       "---\n",
       "\n",
       "[source](https://github.com/kcaylor/biobib/blob/master/biobib/table.py#L73){target=\"_blank\" style=\"float:right; font-size:smaller\"}\n",
       "\n",
       "### tex_escape\n",
       "\n",
       ">      tex_escape (text:str)\n",
       "\n",
       "formats text for use in LaTex\n",
       "\n",
       "|    | **Type** | **Details** |\n",
       "| -- | -------- | ----------- |\n",
       "| text | str | plain text message |\n",
       "| **Returns** | **str** | **message escaped to appear correctly in LaTex** |"
      ],
      "text/plain": [
       "---\n",
       "\n",
       "[source](https://github.com/kcaylor/biobib/blob/master/biobib/table.py#L73){target=\"_blank\" style=\"float:right; font-size:smaller\"}\n",
       "\n",
       "### tex_escape\n",
       "\n",
       ">      tex_escape (text:str)\n",
       "\n",
       "formats text for use in LaTex\n",
       "\n",
       "|    | **Type** | **Details** |\n",
       "| -- | -------- | ----------- |\n",
       "| text | str | plain text message |\n",
       "| **Returns** | **str** | **message escaped to appear correctly in LaTex** |"
      ]
     },
     "execution_count": 135,
     "metadata": {},
     "output_type": "execute_result"
    }
   ],
   "source": [
    "show_doc(tex_escape)"
   ]
  },
  {
   "attachments": {},
   "cell_type": "markdown",
   "metadata": {},
   "source": [
    "The `tex_escape` function contains the necessary code to convert the `decorate_dict` into LaTex representations:"
   ]
  },
  {
   "cell_type": "code",
   "execution_count": 136,
   "metadata": {},
   "outputs": [
    {
     "data": {
      "text/markdown": [
       "Undergrad Author: -UUUU- $\\rightarrow$ $^{\\ddagger}$"
      ],
      "text/plain": [
       "<IPython.core.display.Markdown object>"
      ]
     },
     "metadata": {},
     "output_type": "display_data"
    },
    {
     "data": {
      "text/markdown": [
       "Visitor Author: -VVVV- $\\rightarrow$ $^{\\star}$"
      ],
      "text/plain": [
       "<IPython.core.display.Markdown object>"
      ]
     },
     "metadata": {},
     "output_type": "display_data"
    },
    {
     "data": {
      "text/markdown": [
       "PhD Committee Member: -MMMM- $\\rightarrow$ $^{\\bullet}$"
      ],
      "text/plain": [
       "<IPython.core.display.Markdown object>"
      ]
     },
     "metadata": {},
     "output_type": "display_data"
    },
    {
     "data": {
      "text/markdown": [
       "Graduate Advisee: -AAAA- $\\rightarrow$ $^{\\blacktriangle}$"
      ],
      "text/plain": [
       "<IPython.core.display.Markdown object>"
      ]
     },
     "metadata": {},
     "output_type": "display_data"
    },
    {
     "data": {
      "text/markdown": [
       "Postdoctoral Advisee: -PPPP- $\\rightarrow$ $^{\\blacklozenge}$"
      ],
      "text/plain": [
       "<IPython.core.display.Markdown object>"
      ]
     },
     "metadata": {},
     "output_type": "display_data"
    }
   ],
   "source": [
    "from IPython.display import display, Markdown\n",
    "\n",
    "for key, value in decorate_dict.items():\n",
    "    latex_value = tex_escape(value)\n",
    "    display(Markdown(rf\"{key}: {value} $\\rightarrow$ {latex_value}\"))"
   ]
  },
  {
   "attachments": {},
   "cell_type": "markdown",
   "metadata": {},
   "source": [
    "The `tex_escape` function also escapes greek characters:"
   ]
  },
  {
   "cell_type": "code",
   "execution_count": 137,
   "metadata": {},
   "outputs": [],
   "source": [
    "test_eq(tex_escape('Ω'),'$\\\\Omega$')\n",
    "test_eq(tex_escape('δ'),'$\\\\delta$')"
   ]
  },
  {
   "attachments": {},
   "cell_type": "markdown",
   "metadata": {},
   "source": [
    "And does some formatting conversions"
   ]
  },
  {
   "cell_type": "code",
   "execution_count": 138,
   "metadata": {},
   "outputs": [],
   "source": [
    "test_eq(tex_escape('-BOLD_START-'),'\\\\textbf{')\n",
    "test_eq(tex_escape('-BOLD_END-'),'}')"
   ]
  },
  {
   "cell_type": "code",
   "execution_count": 139,
   "metadata": {},
   "outputs": [],
   "source": [
    "#| export\n",
    "def str_join(df:pd.DataFrame, # dataframe \n",
    "             sep:str, # separation character between items\n",
    "             *cols:list # list of columns to make into a list\n",
    "            )->str: # string of values\n",
    "    \"\"\" generates a string by concatenating columns in a dataframe \"\"\"\n",
    "    from functools import reduce\n",
    "    return reduce(lambda x, y: x.astype(str).str.cat(y.astype(str), sep=sep),\n",
    "                  [df[col] for col in cols])\n",
    "\n",
    "\n",
    "def stringify(value:str|int|float)->str:\n",
    "    \"\"\"convert a value into a string\"\"\"\n",
    "    return str(value)\n",
    "\n",
    "\n",
    "def colonify(string:str  # string that we want to add a colon to\n",
    "            )->str:      # pre-pend with a colon\n",
    "    \"\"\" pre-pend a string with a colon \"\"\"\n",
    "    if string:\n",
    "        return \": \" + string\n",
    "    else:\n",
    "        return \"\"\n",
    "\n",
    "def reversed(l:list)->list:\n",
    "    \"\"\" reverse a list \"\"\"\n",
    "    return l[::-1]"
   ]
  },
  {
   "attachments": {},
   "cell_type": "markdown",
   "metadata": {},
   "source": [
    "Add these filter functions to the `latex_env`"
   ]
  },
  {
   "cell_type": "code",
   "execution_count": 140,
   "metadata": {},
   "outputs": [],
   "source": [
    "#| export\n",
    "latex_env.filters['colonify'] = colonify\n",
    "latex_env.filters['str_join'] = str_join\n",
    "latex_env.filters['tex_escape'] = tex_escape\n",
    "latex_env.filters['make_cell'] = make_cell\n",
    "latex_env.filters['stringify'] = stringify\n",
    "latex_env.filters['reversed'] = reversed"
   ]
  },
  {
   "attachments": {},
   "cell_type": "markdown",
   "metadata": {},
   "source": [
    "### Create a dummy template for use\n",
    "\n",
    "Here is a simple template that will work as a stand-in for our templates in more complex tables\n"
   ]
  },
  {
   "cell_type": "code",
   "execution_count": 141,
   "metadata": {},
   "outputs": [],
   "source": [
    "basic_template = r'''% UC Bio-bib Generic Table\n",
    "% Created on \\VAR{created}\n",
    "\n",
    "\\begin{longtable}{llp{12cm}}\n",
    "Year & Role & Activity \\\\\n",
    "\\hline \n",
    "\\endfirsthead\n",
    "\n",
    "\n",
    "\\multicolumn{3}{c}%\n",
    "{{\\VAR{table_name} - continued from previous page }}\n",
    "Year & Role & Activity \\\\\n",
    "\\hline \n",
    "\\endhead\n",
    "\n",
    "\\multicolumn{3}{c}%\n",
    "{{ \\VAR{table_name} continued on next page }}\n",
    "\\endfoot\n",
    "\n",
    "\\hline \\hline\n",
    "\\endlastfoot\n",
    "\n",
    "\\BLOCK{for item in items}\n",
    "\\VAR{item.Year} & \\VAR{item.Role} & \\VAR{item.Activity} \\\\\n",
    "\\BLOCK{endfor}\n",
    "\\end{longtable}\n",
    "\n",
    "'''"
   ]
  },
  {
   "cell_type": "code",
   "execution_count": 142,
   "metadata": {},
   "outputs": [],
   "source": [
    "template = latex_env.from_string(basic_template)\n",
    "rendered_template = template.render(table_name='Test Table', created='today', items=[{'Year': 2020, 'Role': 'Test Role', 'Activity': 'Test Activity'}])\n",
    "test_eq(rendered_template,\n",
    "r'''% UC Bio-bib Generic Table\n",
    "% Created on today\n",
    "\n",
    "\\begin{longtable}{llp{12cm}}\n",
    "Year & Role & Activity \\\\\n",
    "\\hline \n",
    "\\endfirsthead\n",
    "\n",
    "\n",
    "\\multicolumn{3}{c}%\n",
    "{{Test Table - continued from previous page }}\n",
    "Year & Role & Activity \\\\\n",
    "\\hline \n",
    "\\endhead\n",
    "\n",
    "\\multicolumn{3}{c}%\n",
    "{{ Test Table continued on next page }}\n",
    "\\endfoot\n",
    "\n",
    "\\hline \\hline\n",
    "\\endlastfoot\n",
    "\n",
    "2020 & Test Role & Test Activity \\\\\n",
    "\\end{longtable}\n",
    "''')"
   ]
  },
  {
   "cell_type": "code",
   "execution_count": 143,
   "metadata": {},
   "outputs": [],
   "source": [
    "#| export\n",
    "class Table:\n",
    "    \n",
    "    def __init__(self, \n",
    "                 sheet:Sheet=None, # google sheet containing data\n",
    "                 worksheet:str=None, # name of worksheet from which to build the table\n",
    "                 csv_file:str=None, # name of .csv file\n",
    "                 env:Environment=latex_env, # environment for formatting\n",
    "                 table_name:str=None, # Name of table\n",
    "                 template:str=None, # template variable for output\n",
    "                 template_file:str=None, # template file if template string not provided\n",
    "                 filters:list=None, # list of additional filter functions\n",
    "                ):\n",
    "        self.worksheet_name = worksheet\n",
    "        self.table_name = table_name or self.__class__.__name__\n",
    "        self.df = pd.read_csv(csv_file) if csv_file else sheet.get_dataframe(self.worksheet_name)\n",
    "        self.columns = \"\"\n",
    "        self.type = \"longtable\"\n",
    "        self.env = env\n",
    "        \n",
    "        if filters:\n",
    "            for item in filters:\n",
    "                self.env.filters[item] = filters[item]\n",
    "        \n",
    "        if template:\n",
    "            # self.template = Template(template)\n",
    "            self.template = self.env.from_string(template)\n",
    "        elif template_file:\n",
    "            self.template = self.env.get_template(template_file)\n",
    "\n",
    "    \n"
   ]
  },
  {
   "attachments": {},
   "cell_type": "markdown",
   "metadata": {},
   "source": [
    "### Initialize a sheet for use in making tables\n"
   ]
  },
  {
   "cell_type": "code",
   "execution_count": 144,
   "metadata": {},
   "outputs": [],
   "source": [
    "#| export\n",
    "sheet_name = \"Caylor CV\"\n",
    "credentials_filename = 'credentials.json'\n",
    "sh = Sheet(sheet_name,credentials_filename)"
   ]
  },
  {
   "attachments": {},
   "cell_type": "markdown",
   "metadata": {},
   "source": [
    "### Make a Table using this sheet."
   ]
  },
  {
   "cell_type": "code",
   "execution_count": 145,
   "metadata": {},
   "outputs": [],
   "source": [
    "table = Table(sheet=sh,worksheet='Summary',table_name='Test')"
   ]
  },
  {
   "cell_type": "code",
   "execution_count": 146,
   "metadata": {},
   "outputs": [],
   "source": [
    "test_eq(table.table_name,'Test')\n",
    "test_eq(table.worksheet_name,'Summary')\n",
    "test_eq(list(table.df.columns),['Current Year', '2023'])"
   ]
  },
  {
   "attachments": {},
   "cell_type": "markdown",
   "metadata": {},
   "source": [
    "### Cleaning Tables\n",
    "\n",
    "Provide a function to clean a table dataframe in preparation for generating text output. Generally, this function will always provide the capacity to remove any items from the table that aren't part of a current review period. In addition, the function should sort data into the appropriate order.\n"
   ]
  },
  {
   "cell_type": "code",
   "execution_count": 147,
   "metadata": {},
   "outputs": [],
   "source": [
    "#| export\n",
    "\n",
    "@patch\n",
    "def table_clean_df(self:Table\n",
    "                  )->pd.DataFrame: # cleaned dataframe\n",
    "    \"\"\" Remove cumulative records and assign categories \"\"\"\n",
    "    df = copy.deepcopy(self.df)\n",
    "    df = self.clean_cumulative(df)\n",
    "    if hasattr(self,'category'):\n",
    "        df = df[df.Type == self.category]\n",
    "    return df\n",
    "    \n",
    "\n",
    "@patch\n",
    "def clean_cumulative(self:Table, \n",
    "                       df:pd.DataFrame # dataframe to filter\n",
    "                      )->pd.DataFrame:\n",
    "    \"\"\"\n",
    "    \n",
    "    Remove any items that are not part of the current review period if this isn't a \n",
    "    cumulative review. \n",
    "    \n",
    "    \"\"\"\n",
    "    if self.cumulative is False:\n",
    "        # Make sure we cast 'Eval' into int.\n",
    "        df['Eval'] = df['Eval'].astype(int)\n",
    "        df = df[df.Eval == 1]\n",
    "    return df"
   ]
  },
  {
   "attachments": {},
   "cell_type": "markdown",
   "metadata": {},
   "source": [
    "#### Rendering Templates\n",
    "\n",
    "A template can be rendered using the `render_template` function. This function generates the appropriate template text using the `self.template.render` function.\n"
   ]
  },
  {
   "cell_type": "code",
   "execution_count": 148,
   "metadata": {},
   "outputs": [],
   "source": [
    "#| export\n",
    "\n",
    "@patch\n",
    "def render_template(self:Table\n",
    "                   )->str:  # rendered text for this table\n",
    "    \"\"\" Generate text for this table using the table's template. \"\"\"\n",
    "    rendered_tex = self.template.render(\n",
    "        table_name=self.table_name,\n",
    "        created=time.strftime(\"%Y-%m-%d %H:%M\"),\n",
    "        items=list(self.df.to_dict('records'))\n",
    "    )\n",
    "    return rendered_tex\n",
    "\n",
    "@patch\n",
    "def write_template(self:Table, \n",
    "                   path=None):  # location to save the template content\n",
    "    \"\"\" \n",
    "    Write out the contents of this table using the table's template\n",
    "    \"\"\"\n",
    "    content = self.render_template()\n",
    "    if path:\n",
    "        file = path + self.table_name + '.tex'\n",
    "    else:\n",
    "        file = self.table_name + 'tex'\n",
    "\n",
    "    with open(file, \"w\") as f:\n",
    "        print(content, file=f)\n"
   ]
  },
  {
   "attachments": {},
   "cell_type": "markdown",
   "metadata": {},
   "source": [
    "### Helper function to format href links\n",
    "\n",
    "Provide a function to format an href link in LaTex\n"
   ]
  },
  {
   "cell_type": "code",
   "execution_count": 149,
   "metadata": {},
   "outputs": [],
   "source": [
    "#| export\n",
    "\n",
    "@patch\n",
    "def href(self:Table, \n",
    "         this_href:str,   # href text\n",
    "         link:str='link'  # link text\n",
    "        )->str:   # Latex-formatted href \n",
    "    if this_href is np.NaN:\n",
    "        return \"\"\n",
    "    else:\n",
    "        return f\"\\\\href{{{this_href}}}{{[{link}]}}\""
   ]
  },
  {
   "cell_type": "code",
   "execution_count": 150,
   "metadata": {},
   "outputs": [],
   "source": [
    "table = Table(sheet=sh,worksheet='Summary',table_name='Test')\n",
    "test_eq(table.href('test'),'\\\\href{test}{[link]}')\n",
    "test_eq(table.href('test','link text'),'\\\\href{test}{[link text]}')"
   ]
  },
  {
   "cell_type": "code",
   "execution_count": 151,
   "metadata": {},
   "outputs": [],
   "source": [
    "table = Table(\n",
    "    sheet=sh,\n",
    "    worksheet='Summary',\n",
    "    table_name='Test',\n",
    "    template=basic_template)"
   ]
  },
  {
   "cell_type": "code",
   "execution_count": 152,
   "metadata": {},
   "outputs": [],
   "source": [
    "#| hide\n",
    "import nbdev; nbdev.nbdev_export()"
   ]
  }
 ],
 "metadata": {
  "kernelspec": {
   "display_name": "biobib",
   "language": "python",
   "name": "python3"
  },
  "language_info": {
   "codemirror_mode": {
    "name": "ipython",
    "version": 3
   },
   "file_extension": ".py",
   "mimetype": "text/x-python",
   "name": "python",
   "nbconvert_exporter": "python",
   "pygments_lexer": "ipython3",
   "version": "3.10.9"
  }
 },
 "nbformat": 4,
 "nbformat_minor": 4
}
