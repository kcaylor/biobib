{
 "cells": [
  {
   "cell_type": "markdown",
   "metadata": {},
   "source": [
    "# sheet\n",
    "\n",
    "> Defines a sheet object interface to a Google Sheet. "
   ]
  },
  {
   "cell_type": "code",
   "execution_count": null,
   "metadata": {},
   "outputs": [],
   "source": [
    "%load_ext autoreload\n",
    "%autoreload 2"
   ]
  },
  {
   "cell_type": "code",
   "execution_count": null,
   "metadata": {},
   "outputs": [],
   "source": [
    "#| default_exp sheet"
   ]
  },
  {
   "cell_type": "code",
   "execution_count": null,
   "metadata": {},
   "outputs": [],
   "source": [
    "#| hide\n",
    "#| export\n",
    "from gspread import oauth\n",
    "import pandas as pd\n",
    "from nbdev import show_doc\n",
    "from fastcore.test import *\n",
    "from fastcore.basics import *\n",
    "from fastcore.foundation import *"
   ]
  },
  {
   "cell_type": "code",
   "execution_count": null,
   "metadata": {},
   "outputs": [],
   "source": [
    "#| export\n",
    "class Sheet:\n",
    "    def __init__(\n",
    "            self,\n",
    "            sheet_name:str, # name of the google sheet to access\n",
    "            creds:str='credentials.json' # filename containing google auth credentials\n",
    "        ):\n",
    "        self.gc = oauth(credentials_filename=creds)\n",
    "        self.sheet = self.gc.open(sheet_name)"
   ]
  },
  {
   "cell_type": "markdown",
   "metadata": {},
   "source": [
    "### Extracting a dataframe from a worksheet\n",
    "\n",
    "Each tab in a google sheet is known as a worksheet. We can extract a single worksheet using the `get_dataframe` function.\n",
    "\n",
    "The result is a dataframe that can contain header information based on the first for of the worksheet (or not)."
   ]
  },
  {
   "cell_type": "code",
   "execution_count": null,
   "metadata": {},
   "outputs": [],
   "source": [
    "#| export\n",
    "@patch\n",
    "def get_dataframe(\n",
    "        self:Sheet, \n",
    "        worksheet:str,     # name of the worksheet to return\n",
    "        headers:bool=True  # return headers?\n",
    "    )->pd.DataFrame:       # dataframe containing worksheet data \n",
    "    \"\"\" returns a dataframe from a worksheet \"\"\"\n",
    "    wks = self.sheet.worksheet(worksheet)\n",
    "    data = wks.get_all_values()\n",
    "    if headers:\n",
    "        headers = data.pop(0)\n",
    "    else:\n",
    "        headers = []\n",
    "    df = pd.DataFrame(data, columns=headers)\n",
    "    return df"
   ]
  },
  {
   "cell_type": "markdown",
   "metadata": {},
   "source": [
    "## Initialize a new google sheet\n",
    "\n",
    "We need to specify a sheet name and the location of a credentials file:\n"
   ]
  },
  {
   "cell_type": "code",
   "execution_count": null,
   "metadata": {},
   "outputs": [],
   "source": [
    "sheet_name = \"Caylor CV\"\n",
    "credentials_filename = 'credentials.json'\n",
    "sh = Sheet(sheet_name,creds=credentials_filename)"
   ]
  },
  {
   "cell_type": "code",
   "execution_count": null,
   "metadata": {},
   "outputs": [],
   "source": [
    "df = sh.get_dataframe('Summary')"
   ]
  },
  {
   "cell_type": "code",
   "execution_count": null,
   "metadata": {},
   "outputs": [],
   "source": [
    "test_eq(list(df.columns),['Current Year', '2023'])"
   ]
  },
  {
   "cell_type": "code",
   "execution_count": null,
   "metadata": {},
   "outputs": [],
   "source": [
    "#| hide\n",
    "import nbdev; nbdev.nbdev_export()"
   ]
  }
 ],
 "metadata": {
  "kernelspec": {
   "display_name": "biobib (python 3.10)",
   "language": "python",
   "name": "biobib"
  }
 },
 "nbformat": 4,
 "nbformat_minor": 4
}
