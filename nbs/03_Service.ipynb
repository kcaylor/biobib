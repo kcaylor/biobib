{
 "cells": [
  {
   "attachments": {},
   "cell_type": "markdown",
   "metadata": {},
   "source": [
    "# Service\n",
    "\n",
    "A set of tables for handling service activities\n"
   ]
  },
  {
   "cell_type": "code",
   "execution_count": 1,
   "metadata": {},
   "outputs": [],
   "source": [
    "#| default_exp Service"
   ]
  },
  {
   "cell_type": "code",
   "execution_count": 2,
   "metadata": {},
   "outputs": [],
   "source": [
    "#| export\n",
    "#| hide\n",
    "from biobib.table import Table, sh\n",
    "from biobib.sheet import Sheet\n",
    "from nbdev import show_doc\n",
    "import pandas as pd"
   ]
  },
  {
   "cell_type": "code",
   "execution_count": 3,
   "metadata": {},
   "outputs": [],
   "source": [
    "#| hide\n",
    "from fastcore.test import *\n",
    "from fastcore.test import *\n",
    "from fastcore.basics import *\n",
    "from fastcore.foundation import *"
   ]
  },
  {
   "cell_type": "code",
   "execution_count": 4,
   "metadata": {},
   "outputs": [],
   "source": [
    "service_types = {\n",
    "    'P': 'Professional',\n",
    "    'U': 'University',\n",
    "    'D': 'Departmental'\n",
    "}"
   ]
  },
  {
   "attachments": {},
   "cell_type": "markdown",
   "metadata": {},
   "source": [
    "### Define a template for service activities\n",
    "\n",
    "Here is a template we can use for service activities. It generates a longtable which can span multiple pages, and provides the year, role, and type of each service activity.\n"
   ]
  },
  {
   "cell_type": "code",
   "execution_count": 5,
   "metadata": {},
   "outputs": [],
   "source": [
    "service_template = r'''% UC Bio-bib Professional Generic Service Table\n",
    "% Created on \\VAR{created}\n",
    "\n",
    "\\begin{longtable}{llp{12cm}}\n",
    "Year & Role & Service\n",
    "\\hline \n",
    "\\endfirsthead\n",
    "\n",
    "\n",
    "\\multicolumn{3}{c}\n",
    "{ \\VAR{table_name} - continued from previous page }\n",
    "\n",
    "Year & Role & Service\n",
    "\n",
    "\\hline \n",
    "\\endhead\n",
    "\n",
    "\\multicolumn{3}{c}\n",
    "{ \\VAR{table_name} continued on next page }\n",
    "\\endfoot\n",
    "\n",
    "\\hline \\hline\n",
    "\\endlastfoot\n",
    "\n",
    "\\BLOCK{for service in items}\n",
    "\\VAR{service.Year} & \\VAR{service.Role} & \\VAR{service.Committee}\n",
    "\\BLOCK{endfor}\n",
    "\\end{longtable}\n",
    "\n",
    "'''"
   ]
  },
  {
   "cell_type": "code",
   "execution_count": 6,
   "metadata": {},
   "outputs": [],
   "source": [
    "class Service(Table):\n",
    "    \"\"\" \n",
    "    A Service class of Table for use in generating biobibs and CVs \n",
    "    \"\"\"\n",
    "    def __init__(\n",
    "            self,\n",
    "            sheet:Sheet=None, # Google sheet object\n",
    "            worksheet:str='Service',   # worksheet name in google sheet\n",
    "            csv_file:str=None, # optional csv file (if using csv files) \n",
    "            category:str='U',  # type of service (P = professional, U = university, D = department)\n",
    "            table_name:str=None, # Will be determined from category.\n",
    "            cumulative:bool=False, # Is this table cumulative? \n",
    "            template=service_template # template content\n",
    "    ):\n",
    "        if not table_name:\n",
    "            table_name = service_types[category] + ' Service'\n",
    "        super().__init__(\n",
    "            sheet=sheet,\n",
    "            worksheet=worksheet, \n",
    "            table_name=table_name,\n",
    "            csv_file=csv_file, \n",
    "            template=template)\n",
    "        self.cumulative = cumulative\n",
    "        self.category = category\n",
    "        self.df = self.clean_df()"
   ]
  },
  {
   "attachments": {},
   "cell_type": "markdown",
   "metadata": {},
   "source": [
    "### Provide a data cleaning function for the service table\n",
    "\n"
   ]
  },
  {
   "cell_type": "code",
   "execution_count": 7,
   "metadata": {},
   "outputs": [],
   "source": [
    "#| export\n",
    "\n",
    "@patch\n",
    "def clean_df(self:Service,\n",
    "             sort_by:str='Year', # variable to sort by\n",
    "             ascending:bool=True # ascending?\n",
    "            )->pd.DataFrame:  # cleaned dataframe\n",
    "    \"\"\"\n",
    "    Clean the Service table.\n",
    "    \n",
    "    \"\"\"\n",
    "    df = Table.table_clean_df(self)\n",
    "    df = df.sort_values(by=[sort_by], ascending=[ascending])\n",
    "    return df"
   ]
  },
  {
   "cell_type": "code",
   "execution_count": 8,
   "metadata": {},
   "outputs": [
    {
     "data": {
      "text/plain": [
       "<bound method Sheet.get_dataframe of <biobib.sheet.Sheet object at 0x17b2d1090>>"
      ]
     },
     "execution_count": 8,
     "metadata": {},
     "output_type": "execute_result"
    }
   ],
   "source": [
    "sh.get_dataframe"
   ]
  },
  {
   "cell_type": "code",
   "execution_count": 9,
   "metadata": {},
   "outputs": [],
   "source": [
    "service_table = Service(sheet=sh,worksheet='Service',table_name='Test',template=service_template)"
   ]
  },
  {
   "cell_type": "code",
   "execution_count": 10,
   "metadata": {},
   "outputs": [],
   "source": [
    "test_eq(service_table.table_name,'Test')\n",
    "test_eq(list(service_table.df.columns),['Year', 'Type', 'Role', 'Committee', 'Notes', 'Eval', 'Sort Year'])"
   ]
  },
  {
   "cell_type": "code",
   "execution_count": 11,
   "metadata": {},
   "outputs": [
    {
     "name": "stdout",
     "output_type": "stream",
     "text": [
      "% UC Bio-bib Professional Generic Service Table\n",
      "% Created on 2023-06-28 18:48\n",
      "\n",
      "\\begin{longtable}{llp{12cm}}\n",
      "Year & Role & Service\n",
      "\\hline \n",
      "\\endfirsthead\n",
      "\n",
      "\n",
      "\\multicolumn{3}{c}\n",
      "{ Test - continued from previous page }\n",
      "\n",
      "Year & Role & Service\n",
      "\n",
      "\\hline \n",
      "\\endhead\n",
      "\n",
      "\\multicolumn{3}{c}\n",
      "{ Test continued on next page }\n",
      "\\endfoot\n",
      "\n",
      "\\hline \\hline\n",
      "\\endlastfoot\n",
      "\n",
      "2021 - 2022 & Chair & Dangermond Endowed Chair Search Committee, Office of Research\n",
      "2021 - 2022 & Chair & NCEAS Campus Advisory Committee \n",
      "2022 - 2023 & Member & Information Technology Council, Office of the Chief Information Officer\n",
      "2022 - 2023 & Member & Disaster Resilience Network Campus-based Committee\n",
      "2022 - 2023 & Associate Vice Chancellor & Office of Research\n",
      "2022 - 2023 & Participating Faculty & Interdepartmental PhD Emphasis in Environment and Society\n",
      "\\end{longtable}\n",
      "\n"
     ]
    }
   ],
   "source": [
    "print(service_table.render_template())"
   ]
  },
  {
   "cell_type": "code",
   "execution_count": null,
   "metadata": {},
   "outputs": [],
   "source": [
    "#| hide\n",
    "import nbdev; nbdev.nbdev_export()"
   ]
  }
 ],
 "metadata": {
  "kernelspec": {
   "display_name": "biobib",
   "language": "python",
   "name": "python3"
  },
  "language_info": {
   "codemirror_mode": {
    "name": "ipython",
    "version": 3
   },
   "file_extension": ".py",
   "mimetype": "text/x-python",
   "name": "python",
   "nbconvert_exporter": "python",
   "pygments_lexer": "ipython3",
   "version": "3.10.9"
  }
 },
 "nbformat": 4,
 "nbformat_minor": 4
}
