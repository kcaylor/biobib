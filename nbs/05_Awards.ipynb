{
 "cells": [
  {
   "attachments": {},
   "cell_type": "markdown",
   "metadata": {},
   "source": [
    "# Awards\n",
    "\n",
    "A table for handling awards and honors"
   ]
  },
  {
   "cell_type": "code",
   "execution_count": 76,
   "metadata": {},
   "outputs": [],
   "source": [
    "#| default_exp Awards"
   ]
  },
  {
   "cell_type": "code",
   "execution_count": 77,
   "metadata": {},
   "outputs": [],
   "source": [
    "#| export\n",
    "#| hide\n",
    "from biobib.table import Table, sh\n",
    "from biobib.sheet import Sheet\n",
    "from nbdev import show_doc\n",
    "import pandas as pd"
   ]
  },
  {
   "cell_type": "code",
   "execution_count": 78,
   "metadata": {},
   "outputs": [],
   "source": [
    "#| hide\n",
    "from fastcore.test import *\n",
    "from fastcore.test import *\n",
    "from fastcore.basics import *\n",
    "from fastcore.foundation import *\n",
    "import time"
   ]
  },
  {
   "attachments": {},
   "cell_type": "markdown",
   "metadata": {},
   "source": [
    "### Define a template for awards and honors\n",
    "\n",
    "Here is a template we can use for awards and honors. It generates a longtable which can span multiple pages, and provides the year, award, and organization."
   ]
  },
  {
   "cell_type": "code",
   "execution_count": 79,
   "metadata": {},
   "outputs": [],
   "source": [
    "#| export\n",
    "award_cv_template = r'''% CV Awards Table\n",
    "% Created on \\VAR{created}\n",
    "\n",
    "\\textsc{\\underline{Awards \\& Honors}}\n",
    "\n",
    "\\begin{longtable}{p{.25in} p{5.5in} }\n",
    "\n",
    "\\endfirsthead\n",
    "\\multicolumn{2}{l}{\\hspace{.1in} \\textsc{\\underline{Awards \\& Honors }}  -- continued\n",
    "\\vspace*{.1in} }  \\endhead\n",
    "\n",
    "\\BLOCK{for award in items|reverse}\n",
    "\\VAR{award.Year} & \\VAR{award.Honor|tex_escape}, \\VAR{award.Organization|tex_escape} \\\\\n",
    "\\BLOCK{endfor}\n",
    "\\end{longtable}\n",
    "\n",
    "'''\n"
   ]
  },
  {
   "cell_type": "code",
   "execution_count": 80,
   "metadata": {},
   "outputs": [],
   "source": [
    "#| export\n",
    "class Awards(Table):\n",
    "    \"\"\" \n",
    "    An Award class of Table for use in generating biobibs and CVs \n",
    "    \"\"\"\n",
    "    def __init__(\n",
    "            self,\n",
    "            sheet:Sheet=None, # Google sheet object\n",
    "            worksheet:str='Awards',   # worksheet name in google sheet\n",
    "            csv_file:str=None, # optional csv file (if using csv files) \n",
    "            table_name:str='Awards and Honors', # name of table\n",
    "            cumulative:bool=True, # Is this table cumulative? \n",
    "            template=award_cv_template # template content\n",
    "    ):\n",
    "        super().__init__(\n",
    "            sheet=sheet,\n",
    "            worksheet=worksheet, \n",
    "            table_name=table_name,\n",
    "            csv_file=csv_file, \n",
    "            template=template)\n",
    "        self.cumulative = cumulative\n",
    "        self.df = self.clean_df()"
   ]
  },
  {
   "attachments": {},
   "cell_type": "markdown",
   "metadata": {},
   "source": [
    "### Provide a data cleaning function for the award table\n",
    "\n"
   ]
  },
  {
   "cell_type": "code",
   "execution_count": 81,
   "metadata": {},
   "outputs": [],
   "source": [
    "#| export\n",
    "\n",
    "@patch\n",
    "def clean_df(self:Awards,\n",
    "             sort_by:str='Year', # variable to sort by\n",
    "             ascending:bool=True # ascending?\n",
    "            )->pd.DataFrame:  # cleaned dataframe\n",
    "    \"\"\"\n",
    "    Clean the Award table.\n",
    "    \n",
    "    \"\"\"\n",
    "    df = Table.table_clean_df(self)\n",
    "    df = df.sort_values(by=[sort_by], ascending=[ascending])\n",
    "    return df"
   ]
  },
  {
   "cell_type": "code",
   "execution_count": 82,
   "metadata": {},
   "outputs": [
    {
     "data": {
      "text/plain": [
       "<bound method Sheet.get_dataframe of <biobib.sheet.Sheet object at 0x17b6c1090>>"
      ]
     },
     "execution_count": 82,
     "metadata": {},
     "output_type": "execute_result"
    }
   ],
   "source": [
    "sh.get_dataframe"
   ]
  },
  {
   "cell_type": "code",
   "execution_count": 83,
   "metadata": {},
   "outputs": [],
   "source": [
    "award_table = Awards(sheet=sh,worksheet='Awards',table_name='Awards',template=award_cv_template)"
   ]
  },
  {
   "cell_type": "code",
   "execution_count": 84,
   "metadata": {},
   "outputs": [],
   "source": [
    "test_eq(award_table.table_name,'Awards')\n",
    "test_eq(list(award_table.df.columns),['Year', 'Honor', 'Organization'])"
   ]
  },
  {
   "cell_type": "code",
   "execution_count": 85,
   "metadata": {},
   "outputs": [
    {
     "name": "stdout",
     "output_type": "stream",
     "text": [
      "% CV Awards Table\n",
      "% Created on 2023-06-29 18:12\n",
      "\n",
      "\\textsc{\\underline{Awards \\& Honors}}\n",
      "\n",
      "\\begin{longtable}{p{.25in} p{5.5in} }\n",
      "\n",
      "\\endfirsthead\n",
      "\\multicolumn{2}{l}{\\hspace{.1in} \\textsc{\\underline{Awards \\& Honors }}  -- continued\n",
      "\\vspace*{.1in} }  \\endhead\n",
      "\n",
      "2023 & Editor's Citation for Excellence in Refereeing, Water Resources Research \\\\\n",
      "2018 & Fellow, National Geographic Society \\\\\n",
      "2015 & Commendation List for Outstanding Teaching, School of Engineering and Applied Sciences, Princeton University \\\\\n",
      "2013 & E. Lawrence Keyes, Jr./Emerson Electric Co. Faculty Advancement Award, Princeton University \\\\\n",
      "2012 & Commendation List for Outstanding Teaching, School of Engineering and Applied Sciences, Princeton University \\\\\n",
      "2011 & Editor's Citation for Excellence in Refereeing, Reviews of Geophysics \\\\\n",
      "2009 & CAREER Award, National Science Foundation \\\\\n",
      "2009 & Early Career Hydrological Sciences Award, American Geophysical Union \\\\\n",
      "2003 & Clayton Postdoctoral Fellowship, Princeton Environmental Institute \\\\\n",
      "2002 & DuPont Fellowship, University of Virginia \\\\\n",
      "2001 & Earth System Science Graduate Fellowship, NASA \\\\\n",
      "1998 & Governor's Fellowship, University of Virginia \\\\\n",
      "1996 & Distinguished Major, Department of Environmental Sciences, University of Virginia \\\\\n",
      "\\end{longtable}\n",
      "\n"
     ]
    }
   ],
   "source": [
    "print(award_table.render_template())"
   ]
  },
  {
   "cell_type": "code",
   "execution_count": 86,
   "metadata": {},
   "outputs": [],
   "source": [
    "award_table.write_template(path='../tex/CV/')"
   ]
  },
  {
   "cell_type": "code",
   "execution_count": 87,
   "metadata": {},
   "outputs": [],
   "source": [
    "#| hide\n",
    "import nbdev; nbdev.nbdev_export()"
   ]
  }
 ],
 "metadata": {
  "kernelspec": {
   "display_name": "biobib",
   "language": "python",
   "name": "python3"
  },
  "language_info": {
   "codemirror_mode": {
    "name": "ipython",
    "version": 3
   },
   "file_extension": ".py",
   "mimetype": "text/x-python",
   "name": "python",
   "nbconvert_exporter": "python",
   "pygments_lexer": "ipython3",
   "version": "3.10.9"
  }
 },
 "nbformat": 4,
 "nbformat_minor": 4
}
