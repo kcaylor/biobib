{
 "cells": [
  {
   "cell_type": "markdown",
   "metadata": {},
   "source": [
    "# Parse Authors\n",
    "\n",
    "This notebook contains a set of scripts that will convert my publication and conference presentation lists into a standardized format that can be brought back into my `CV.numbers` file. This will make it easier to maintain the spreadsheet going forward and also paves the way for a collaborators file that will make it possible to format my CV properly (as well as automatically generate an NSF COI file)."
   ]
  },
  {
   "cell_type": "markdown",
   "metadata": {},
   "source": [
    "## Step 1.\n",
    "\n",
    "Let's split the existing conference author lists out into columns so there is one author per column and the author names are standardized. We will keep any information we get about author names though and start to make a collaborator dataframe as well (which we will use later more extensively)\n",
    "\n",
    "There are three types of author lists:\n",
    "\n",
    "1. Author1FirstName Author1LastName, Author2FirstName Author2LastName\n",
    "1. Author1LastName, Author1Initials and  Author1LastName, Author1Initials\n",
    "1. Author1LastName, Author1Initials; Author2LastName, Author2Initials;\n",
    "1. Author1LastName, Author1Initials., Author2LastName, Author2Initials.,\n",
    "\n",
    "\n",
    "So separation is either by `;`, `.,`, or `,`. We should attempt each split and use the one that seems right"
   ]
  },
  {
   "cell_type": "code",
   "execution_count": null,
   "metadata": {},
   "outputs": [],
   "source": []
  },
  {
   "cell_type": "code",
   "execution_count": 183,
   "metadata": {},
   "outputs": [],
   "source": [
    "def split_authors(author_string, seq=None):\n",
    "    \"\"\"\n",
    "    splits a string containing an author list into a list of indiviual authors. \n",
    "    Tries to do the right thing always.\n",
    "    \n",
    "    PARAMETERS\n",
    "    ==========\n",
    "        \n",
    "        seq = ';', ',' (optional)\n",
    "    \"\"\"\n",
    "    seq_order = [';', ' and', '.,']\n",
    "    if seq:\n",
    "        return author_string.split(seq)\n",
    "    else:\n",
    "        for seq in seq_order:\n",
    "            author_list = author_string.split(seq)\n",
    "            if len(author_list) > 1:\n",
    "                author_tuples = [get_name(author) for author in author_list]\n",
    "                return author_tuples\n",
    "\n",
    "def get_name(name_string):\n",
    "    \"\"\"\n",
    "    splits a string containing an author name into a tuple of (LastName, FirstName, Initials). \n",
    "    Tries to do the right thing always.\n",
    "    \n",
    "    PARAMETERS\n",
    "    ==========\n",
    "        \n",
    "        seq = ','\n",
    "    \"\"\"\n",
    "    from collections import namedtuple\n",
    "    # Try to split on comma. If possible, this means we have either:\n",
    "    # LastName, Initial\n",
    "    # LastName, Initials\n",
    "    # LastName, FirstName\n",
    "    # LastName, FirstName Initial\n",
    "    Name = namedtuple('Name', ['First','Last','First_Initial','Second_Initial'])\n",
    "    last_name = None\n",
    "    first_name = None\n",
    "    first_initial = None\n",
    "    second_initial = None\n",
    "    if 'others' in name_string.lower():\n",
    "        return None\n",
    "    name_parts = [part.strip() for part in name_string.split(',')]\n",
    "    if len(name_parts) > 1:\n",
    "        last_name = name_parts[0]\n",
    "        # Now let's see if the remainder is a name or initials:\n",
    "        if name_parts[1].isupper():\n",
    "            # We have initials. But how many?\n",
    "            if len(name_parts[1]) > 1:\n",
    "                # Let's first try to split if we can:\n",
    "                initials = name_parts[1].split('.')\n",
    "                if len(initials) > 1:\n",
    "                    first_initial = initials[0]\n",
    "                    second_initial = initials[1]\n",
    "                else:\n",
    "                    first_initial = name_parts[1][0]\n",
    "                    second_initial = name_parts[1][1:]\n",
    "            else:\n",
    "                first_initial = name_parts[1]\n",
    "                second_initial = None\n",
    "        else:\n",
    "            # It must be a full name. But maybe there is still an initial?\n",
    "            # Let's try to split on spaces:\n",
    "            first_names = name_parts[1].split(' ')\n",
    "            if len(first_names) > 1:\n",
    "                # We have a first name and an initial (or second name??)\n",
    "                first_name = first_names[0]\n",
    "                first_initial = first_name[0]\n",
    "                second_initial = first_names[1][0]\n",
    "            else:\n",
    "                first_name = name_parts[1]\n",
    "                first_initial = first_name[0]\n",
    "                second_initial = None\n",
    "    else: # We have a regular old name.\n",
    "        name_parts = [part.strip() for part in name_string.split(' ')]\n",
    "        first_name = name_parts[0]\n",
    "        last_name = name_parts[-1]\n",
    "        first_initial = first_name[0]\n",
    "        if len(name_parts) > 2:\n",
    "            second_initial = name_parts[1][0]\n",
    "\n",
    "    name = Name(\n",
    "            First=first_name,\n",
    "            Last=last_name,\n",
    "            First_Initial=first_initial,\n",
    "            Second_Initial=second_initial)\n",
    "    return name\n",
    "\n",
    "def format_name(name, style='citation'):\n",
    "    \"\"\" \n",
    "    Formats a name tuple into a standard name format.\n",
    "    \n",
    "    \"\"\"\n",
    "    name_string = None\n",
    "    if name is not None:\n",
    "        if style == 'citation':\n",
    "            if not name.Second_Initial:\n",
    "                name_string = name.Last + ', ' +  name.First_Initial + '.'\n",
    "            else:\n",
    "                name_string = name.Last + ', ' + name.First_Initial + '.' + name.Second_Initial + '.'\n",
    "        elif style == 'search':\n",
    "            if not name.First:\n",
    "                name_string = name.First_Initial + '. ' + name.Last\n",
    "            else:\n",
    "                name_string = name.First\n",
    "                if not name.Second_Initial:\n",
    "                    name_string = name_string + ' ' + name.Last\n",
    "                else:\n",
    "                    name_string = name_string + ' ' + name.Second_Initial + '. ' + name.Last\n",
    "    return name_string"
   ]
  },
  {
   "cell_type": "code",
   "execution_count": 120,
   "metadata": {},
   "outputs": [],
   "source": [
    "import sys\n",
    "sys.path.append('/Users/kellycaylor/Documents/dev/biobib')\n",
    "from tables import Proceedings"
   ]
  },
  {
   "cell_type": "code",
   "execution_count": 121,
   "metadata": {},
   "outputs": [],
   "source": [
    "table = Proceedings(csv_file='CV/Conference Abstracts-Table.csv', cumulative=True)"
   ]
  },
  {
   "cell_type": "code",
   "execution_count": 122,
   "metadata": {},
   "outputs": [],
   "source": [
    "author_tuples = []\n",
    "author_count = []\n",
    "authors = table.df['Authors']\n",
    "for author_list in authors:\n",
    "    author_tuple = split_authors(author_list)\n",
    "    author_num = len(author_tuple) if author_tuple else 0\n",
    "    author_tuples.append(author_tuple)\n",
    "    author_count.append(author_num)"
   ]
  },
  {
   "cell_type": "code",
   "execution_count": 123,
   "metadata": {},
   "outputs": [],
   "source": [
    "table.df['author_tuples'] = author_tuples\n",
    "table.df['author_count'] = author_count"
   ]
  },
  {
   "cell_type": "markdown",
   "metadata": {},
   "source": [
    "## Assign Authors to Author Columns\n",
    "\n",
    "This would seem to be the easiest way to assign authors, although I need to think about it a little more.\n"
   ]
  },
  {
   "cell_type": "code",
   "execution_count": 145,
   "metadata": {},
   "outputs": [],
   "source": [
    "def assign_author(authors,n=0, format='tuple'):\n",
    "    if authors:\n",
    "        try:\n",
    "            if format == 'tuple':\n",
    "                return authors[n]\n",
    "            else:\n",
    "                return format_name(authors[n])\n",
    "        except IndexError:\n",
    "            return None\n",
    "        else:\n",
    "            return None\n",
    "    return None"
   ]
  },
  {
   "cell_type": "code",
   "execution_count": 146,
   "metadata": {},
   "outputs": [],
   "source": [
    "author_columns = ['A'+str(i+1) for i in range(max(table.df['author_count']))]\n",
    "\n",
    "for i, author_column  in enumerate(author_columns):\n",
    "    table.df[author_column] =  table.df['author_tuples'].apply(lambda x: assign_author(x,n=i))"
   ]
  },
  {
   "cell_type": "markdown",
   "metadata": {},
   "source": [
    "### Search for an author using `scholarly`\n",
    "\n"
   ]
  },
  {
   "cell_type": "code",
   "execution_count": 184,
   "metadata": {},
   "outputs": [
    {
     "name": "stdout",
     "output_type": "stream",
     "text": [
      "Name(First=None, Last='Caylor', First_Initial='K', Second_Initial='K')\n"
     ]
    }
   ],
   "source": [
    "from scholarly import scholarly\n",
    "print(table.df['A2'][0])\n",
    "name = format_name(table.df['A2'][0], style='search')\n",
    "search_query = scholarly.search_author(name)"
   ]
  },
  {
   "cell_type": "code",
   "execution_count": 185,
   "metadata": {},
   "outputs": [],
   "source": [
    "this_author = next(search_query).fill()"
   ]
  },
  {
   "cell_type": "code",
   "execution_count": 187,
   "metadata": {},
   "outputs": [
    {
     "name": "stdout",
     "output_type": "stream",
     "text": [
      "K. Caylor\n"
     ]
    }
   ],
   "source": [
    "print(name)"
   ]
  },
  {
   "cell_type": "code",
   "execution_count": 157,
   "metadata": {},
   "outputs": [
    {
     "name": "stdout",
     "output_type": "stream",
     "text": [
      "Name(First=None, Last='Caylor', First_Initial='K', Second_Initial='K')\n"
     ]
    }
   ],
   "source": [
    "print(author)"
   ]
  },
  {
   "cell_type": "code",
   "execution_count": 158,
   "metadata": {},
   "outputs": [
    {
     "ename": "AttributeError",
     "evalue": "'Name' object has no attribute 'publications'",
     "output_type": "error",
     "traceback": [
      "\u001b[0;31m---------------------------------------------------------------------------\u001b[0m",
      "\u001b[0;31mAttributeError\u001b[0m                            Traceback (most recent call last)",
      "\u001b[0;32m<ipython-input-158-b52ffa854580>\u001b[0m in \u001b[0;36m<module>\u001b[0;34m\u001b[0m\n\u001b[0;32m----> 1\u001b[0;31m \u001b[0mprint\u001b[0m\u001b[0;34m(\u001b[0m\u001b[0;34m[\u001b[0m\u001b[0mpub\u001b[0m\u001b[0;34m.\u001b[0m\u001b[0mbib\u001b[0m\u001b[0;34m[\u001b[0m\u001b[0;34m'title'\u001b[0m\u001b[0;34m]\u001b[0m \u001b[0;32mfor\u001b[0m \u001b[0mpub\u001b[0m \u001b[0;32min\u001b[0m \u001b[0mauthor\u001b[0m\u001b[0;34m.\u001b[0m\u001b[0mpublications\u001b[0m\u001b[0;34m]\u001b[0m\u001b[0;34m)\u001b[0m\u001b[0;34m\u001b[0m\u001b[0;34m\u001b[0m\u001b[0m\n\u001b[0m",
      "\u001b[0;31mAttributeError\u001b[0m: 'Name' object has no attribute 'publications'"
     ]
    }
   ],
   "source": [
    "print([pub.bib['title'] for pub in author.publications])"
   ]
  },
  {
   "cell_type": "code",
   "execution_count": 200,
   "metadata": {},
   "outputs": [],
   "source": [
    "import pandas as pd\n",
    "pubs = pd.DataFrame([pub.bib for pub in this_author.publications])"
   ]
  },
  {
   "cell_type": "code",
   "execution_count": 211,
   "metadata": {},
   "outputs": [],
   "source": [
    "this_year = pubs[pubs['year'] == '2020']"
   ]
  }
 ],
 "metadata": {
  "kernelspec": {
   "display_name": "Python 3",
   "language": "python",
   "name": "python3"
  },
  "language_info": {
   "codemirror_mode": {
    "name": "ipython",
    "version": 3
   },
   "file_extension": ".py",
   "mimetype": "text/x-python",
   "name": "python",
   "nbconvert_exporter": "python",
   "pygments_lexer": "ipython3",
   "version": "3.7.3"
  }
 },
 "nbformat": 4,
 "nbformat_minor": 4
}
